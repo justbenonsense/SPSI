{
 "cells": [
  {
   "cell_type": "markdown",
   "metadata": {},
   "source": [
    "# Cifrado y descifrado. Criptosistema McEliece.\n"
   ]
  },
  {
   "cell_type": "code",
   "execution_count": 1,
   "metadata": {},
   "outputs": [],
   "source": [
    "set_random_seed(1234)"
   ]
  },
  {
   "cell_type": "markdown",
   "metadata": {},
   "source": [
    "Trabajaremos con códigos Goppa binarios, $p=2$; elegimos $m=4$ "
   ]
  },
  {
   "cell_type": "code",
   "execution_count": 2,
   "metadata": {},
   "outputs": [],
   "source": [
    "rango = 3\n",
    "m = 4\n",
    "N = 2^m\n",
    "K_.<a> = GF(2) # cuerpo con el que trabajaremos\n",
    "F.<a> = GF(2^m) # cuerpo de los coef. del pol. Goppa"
   ]
  },
  {
   "cell_type": "code",
   "execution_count": 3,
   "metadata": {},
   "outputs": [],
   "source": [
    "PR = PolynomialRing(F,'X') # anillo de polinomios\n",
    "X = PR.gen()\n",
    "g = X^3+X+1 # Polinomio de Goppa\n",
    "L = [a^i for i in range(N)]"
   ]
  },
  {
   "cell_type": "code",
   "execution_count": 4,
   "metadata": {},
   "outputs": [
    {
     "data": {
      "text/html": [
       "<html><script type=\"math/tex; mode=display\">\\newcommand{\\Bold}[1]{\\mathbf{#1}}\\Bold{F}_{2}</script></html>"
      ],
      "text/latex": [
       "\\begin{math}\n",
       "\\newcommand{\\Bold}[1]{\\mathbf{#1}}\\Bold{F}_{2}\n",
       "\\end{math}"
      ],
      "text/plain": [
       "Finite Field of size 2"
      ]
     },
     "metadata": {},
     "output_type": "display_data"
    },
    {
     "data": {
      "text/html": [
       "<html><script type=\"math/tex; mode=display\">\\newcommand{\\Bold}[1]{\\mathbf{#1}}\\Bold{F}_{2^{4}}</script></html>"
      ],
      "text/latex": [
       "\\begin{math}\n",
       "\\newcommand{\\Bold}[1]{\\mathbf{#1}}\\Bold{F}_{2^{4}}\n",
       "\\end{math}"
      ],
      "text/plain": [
       "Finite Field in a of size 2^4"
      ]
     },
     "metadata": {},
     "output_type": "display_data"
    },
    {
     "data": {
      "text/html": [
       "<html><script type=\"math/tex; mode=display\">\\newcommand{\\Bold}[1]{\\mathbf{#1}}\\Bold{F}_{2^{4}}[X]</script></html>"
      ],
      "text/latex": [
       "\\begin{math}\n",
       "\\newcommand{\\Bold}[1]{\\mathbf{#1}}\\Bold{F}_{2^{4}}[X]\n",
       "\\end{math}"
      ],
      "text/plain": [
       "Univariate Polynomial Ring in X over Finite Field in a of size 2^4"
      ]
     },
     "metadata": {},
     "output_type": "display_data"
    },
    {
     "data": {
      "text/html": [
       "<html><script type=\"math/tex; mode=display\">\\newcommand{\\Bold}[1]{\\mathbf{#1}}X^{3} + X + 1</script></html>"
      ],
      "text/latex": [
       "\\begin{math}\n",
       "\\newcommand{\\Bold}[1]{\\mathbf{#1}}X^{3} + X + 1\n",
       "\\end{math}"
      ],
      "text/plain": [
       "X^3 + X + 1"
      ]
     },
     "metadata": {},
     "output_type": "display_data"
    },
    {
     "data": {
      "text/html": [
       "<html><script type=\"math/tex; mode=display\">\\newcommand{\\Bold}[1]{\\mathbf{#1}}\\left[1, a, a^{2}, a^{3}, a + 1, a^{2} + a, a^{3} + a^{2}, a^{3} + a + 1, a^{2} + 1, a^{3} + a, a^{2} + a + 1, a^{3} + a^{2} + a, a^{3} + a^{2} + a + 1, a^{3} + a^{2} + 1, a^{3} + 1, 1\\right]</script></html>"
      ],
      "text/latex": [
       "\\begin{math}\n",
       "\\newcommand{\\Bold}[1]{\\mathbf{#1}}\\left[1, a, a^{2}, a^{3}, a + 1, a^{2} + a, a^{3} + a^{2}, a^{3} + a + 1, a^{2} + 1, a^{3} + a, a^{2} + a + 1, a^{3} + a^{2} + a, a^{3} + a^{2} + a + 1, a^{3} + a^{2} + 1, a^{3} + 1, 1\\right]\n",
       "\\end{math}"
      ],
      "text/plain": [
       "[1,\n",
       " a,\n",
       " a^2,\n",
       " a^3,\n",
       " a + 1,\n",
       " a^2 + a,\n",
       " a^3 + a^2,\n",
       " a^3 + a + 1,\n",
       " a^2 + 1,\n",
       " a^3 + a,\n",
       " a^2 + a + 1,\n",
       " a^3 + a^2 + a,\n",
       " a^3 + a^2 + a + 1,\n",
       " a^3 + a^2 + 1,\n",
       " a^3 + 1,\n",
       " 1]"
      ]
     },
     "metadata": {},
     "output_type": "display_data"
    }
   ],
   "source": [
    "show(K_)\n",
    "show(F)\n",
    "show(PR)\n",
    "show(g)\n",
    "show(L)"
   ]
  },
  {
   "cell_type": "markdown",
   "metadata": {},
   "source": [
    "## Funciones auxiliares"
   ]
  },
  {
   "cell_type": "code",
   "execution_count": 5,
   "metadata": {},
   "outputs": [],
   "source": [
    "# -------------------\n",
    "# Funcion auxiliar que permite descomponer un polinomio en irreducibles\n",
    "# -------------------\n",
    "def descomponer_polinomio(p):\n",
    "    # El siguiente metodo permite descomponer un polinomio p en factores irreducibles p(z) = p0 (z) + z p1 (z)\n",
    "    # Entrada: Polinomio p\n",
    "    Phi1 = p.parent()\n",
    "\n",
    "    p0 = Phi1([sqrt(c) for c in p.list()[0::2]])\n",
    "    p1 = Phi1([sqrt(c) for c in p.list()[1::2]])\n",
    "    return (p0,p1)"
   ]
  },
  {
   "cell_type": "code",
   "execution_count": 6,
   "metadata": {},
   "outputs": [],
   "source": [
    "# -------------------\n",
    "# Algoritmo Extendido de Euclides: Obtener MCD y los s,t que lo generan.\n",
    "# -------------------\n",
    "\n",
    "def algoritmo_euclides_extendido(self, other):\n",
    "    delta = self.degree() # grado de polinomio 1\n",
    "\n",
    "    if other.is_zero(): # si el polinomio introducido es 0\n",
    "        ring = self.parent() # comprobamos el cuerpo en el que trabajamos\n",
    "        return self, R.one(), R.zero() # mcd = mismo polinomio y devuelve un uno (s) y un cero (t) en el cuerpo que trabajamos.\n",
    "\n",
    "    # mcd (a,b) = as+bt\n",
    "    \n",
    "    ring = self.parent() # comprobamos el cuerpo en el que trabajamos\n",
    "    a = self # guardamos una copia del primer polinomio 1 (self)\n",
    "    b = other # guardamos una copia del segundo polinomio (other)\n",
    "\n",
    "    s = ring.one() # guardamos en s el uno del anillo\n",
    "    t = ring.zero() # guardamos en t el cero del anillo\n",
    "\n",
    "    resto0 = a\n",
    "    resto1 = b\n",
    "\n",
    "    while true:\n",
    "        cociente,resto_auxiliar = resto0.quo_rem(resto1) # La funcion quo_rem de Sage devuelve el cociente y el resto. Que guardamos en Q y ring.\n",
    "        resto0 = resto1\n",
    "        resto1 = resto_auxiliar\n",
    "\n",
    "        s = t\n",
    "        t = s - t*cociente\n",
    "\n",
    "        if resto1.degree() <= floor((delta-1)/2) and resto0.degree() <= floor((delta)/2):\n",
    "             break\n",
    "\n",
    "    V = (resto0-a*s)//b\n",
    "    coeficiente_lider = resto0.leading_coefficient() # guardamos el coeficiente lider del resto 0\n",
    "\n",
    "    return resto0/coeficiente_lider, s/coeficiente_lider, V/coeficiente_lider\n"
   ]
  },
  {
   "cell_type": "code",
   "execution_count": 7,
   "metadata": {},
   "outputs": [],
   "source": [
    "# -------------------\n",
    "# Funcion que calcula la inversa de un polinomio utilizando el algoritmo de euclides de Sage\n",
    "# -------------------\n",
    "def inversa_g(p,g):\n",
    "    (d,u,v) = xgcd(p,g)\n",
    "    return u.mod(g)"
   ]
  },
  {
   "cell_type": "code",
   "execution_count": 8,
   "metadata": {},
   "outputs": [],
   "source": [
    "# -------------------\n",
    "# Funcion de decodificacion de Patterson\n",
    "# -------------------\n",
    "def decodePatterson(y):\n",
    "\n",
    "    alpha = vector(H*y) # Calculamos primero el vector alpha con los elementos primitivos.\n",
    "\n",
    "    # Consideramos nuestras matrices T,Y,Z definidas así como nuestro polinomio irreducible g\n",
    "    \n",
    "    polinomioS = PR(0) # Inicializa como el polinomio 0 del anillo\n",
    "    for i in range(len(alpha)):\n",
    "        polinomioS = polinomioS + alpha[i]*(X^(len(alpha)-i-1)) # Lo vamos rellenando con los alpha\n",
    "\n",
    "    vector_g = descomponer_polinomio(g) # Guardamos en vector_g el par de polinomios irreducibles\n",
    "    w = ((vector_g[0])*inversa_g(vector_g[1],g)).mod(g)\n",
    "    vector_t = descomponer_polinomio(inversa_g(polinomioS,g) + X)\n",
    "\n",
    "    R = (vector_t[0]+(w)*(vector_t[1])).mod(g)\n",
    "\n",
    "    (a11,b11,c11) = algoritmo_euclides_extendido(g,R)\n",
    "\n",
    "\n",
    "    sigma = a11^2+X*(c11^2) # Definimos el polinomio sigma\n",
    "\n",
    "    # Vamos comprobando uno a uno los coeficientes de sigma\n",
    "    # para asi determinar el conjunto de posiciones de error E - {i tal que e_i es distinto de 0}\n",
    "    for i in range(N):\n",
    "        if (sigma(a^i)==0):\n",
    "            y[i] = y[i] + 1\n",
    "    return y\n"
   ]
  },
  {
   "cell_type": "markdown",
   "metadata": {},
   "source": [
    "## Construcción de la matriz G"
   ]
  },
  {
   "cell_type": "code",
   "execution_count": 9,
   "metadata": {},
   "outputs": [],
   "source": [
    "# -------------------\n",
    "# Matriz T\n",
    "# -------------------\n",
    "\n",
    "T = matrix(F,rango,rango)\n",
    "for i in range(rango):\n",
    "    count = rango - i\n",
    "    for j in range(rango):\n",
    "        if i > j:\n",
    "            T[i,j]=g.list()[count]\n",
    "            count = count + 1\n",
    "        if i < j:\n",
    "            T[i,j] = 0\n",
    "        if i == j:\n",
    "            T[i,j] = 1"
   ]
  },
  {
   "cell_type": "code",
   "execution_count": 10,
   "metadata": {},
   "outputs": [
    {
     "name": "stdout",
     "output_type": "stream",
     "text": [
      "Matriz T: \n"
     ]
    },
    {
     "data": {
      "text/html": [
       "<html><script type=\"math/tex; mode=display\">\\newcommand{\\Bold}[1]{\\mathbf{#1}}\\left(\\begin{array}{rrr}\n",
       "1 & 0 & 0 \\\\\n",
       "0 & 1 & 0 \\\\\n",
       "1 & 0 & 1\n",
       "\\end{array}\\right)</script></html>"
      ],
      "text/latex": [
       "\\begin{math}\n",
       "\\newcommand{\\Bold}[1]{\\mathbf{#1}}\\left(\\begin{array}{rrr}\n",
       "1 & 0 & 0 \\\\\n",
       "0 & 1 & 0 \\\\\n",
       "1 & 0 & 1\n",
       "\\end{array}\\right)\n",
       "\\end{math}"
      ],
      "text/plain": [
       "[1 0 0]\n",
       "[0 1 0]\n",
       "[1 0 1]"
      ]
     },
     "metadata": {},
     "output_type": "display_data"
    }
   ],
   "source": [
    "print (\"Matriz T: \")\n",
    "show(T)"
   ]
  },
  {
   "cell_type": "code",
   "execution_count": 11,
   "metadata": {},
   "outputs": [
    {
     "name": "stdout",
     "output_type": "stream",
     "text": [
      "Matriz V: \n"
     ]
    },
    {
     "data": {
      "text/html": [
       "<html><script type=\"math/tex; mode=display\">\\newcommand{\\Bold}[1]{\\mathbf{#1}}\\left(\\begin{array}{rrrrrrrrrrrrrrrr}\n",
       "1 & 1 & 1 & 1 & 1 & 1 & 1 & 1 & 1 & 1 & 1 & 1 & 1 & 1 & 1 & 1 \\\\\n",
       "1 & a & a^{2} & a^{3} & a + 1 & a^{2} + a & a^{3} + a^{2} & a^{3} + a + 1 & a^{2} + 1 & a^{3} + a & a^{2} + a + 1 & a^{3} + a^{2} + a & a^{3} + a^{2} + a + 1 & a^{3} + a^{2} + 1 & a^{3} + 1 & 1 \\\\\n",
       "1 & a^{2} & a + 1 & a^{3} + a^{2} & a^{2} + 1 & a^{2} + a + 1 & a^{3} + a^{2} + a + 1 & a^{3} + 1 & a & a^{3} & a^{2} + a & a^{3} + a + 1 & a^{3} + a & a^{3} + a^{2} + a & a^{3} + a^{2} + 1 & 1\n",
       "\\end{array}\\right)</script></html>"
      ],
      "text/latex": [
       "\\begin{math}\n",
       "\\newcommand{\\Bold}[1]{\\mathbf{#1}}\\left(\\begin{array}{rrrrrrrrrrrrrrrr}\n",
       "1 & 1 & 1 & 1 & 1 & 1 & 1 & 1 & 1 & 1 & 1 & 1 & 1 & 1 & 1 & 1 \\\\\n",
       "1 & a & a^{2} & a^{3} & a + 1 & a^{2} + a & a^{3} + a^{2} & a^{3} + a + 1 & a^{2} + 1 & a^{3} + a & a^{2} + a + 1 & a^{3} + a^{2} + a & a^{3} + a^{2} + a + 1 & a^{3} + a^{2} + 1 & a^{3} + 1 & 1 \\\\\n",
       "1 & a^{2} & a + 1 & a^{3} + a^{2} & a^{2} + 1 & a^{2} + a + 1 & a^{3} + a^{2} + a + 1 & a^{3} + 1 & a & a^{3} & a^{2} + a & a^{3} + a + 1 & a^{3} + a & a^{3} + a^{2} + a & a^{3} + a^{2} + 1 & 1\n",
       "\\end{array}\\right)\n",
       "\\end{math}"
      ],
      "text/plain": [
       "[                1                 1                 1                 1                 1                 1                 1                 1                 1                 1                 1                 1                 1                 1                 1                 1]\n",
       "[                1                 a               a^2               a^3             a + 1           a^2 + a         a^3 + a^2       a^3 + a + 1           a^2 + 1           a^3 + a       a^2 + a + 1     a^3 + a^2 + a a^3 + a^2 + a + 1     a^3 + a^2 + 1           a^3 + 1                 1]\n",
       "[                1               a^2             a + 1         a^3 + a^2           a^2 + 1       a^2 + a + 1 a^3 + a^2 + a + 1           a^3 + 1                 a               a^3           a^2 + a       a^3 + a + 1           a^3 + a     a^3 + a^2 + a     a^3 + a^2 + 1                 1]"
      ]
     },
     "metadata": {},
     "output_type": "display_data"
    },
    {
     "name": "stdout",
     "output_type": "stream",
     "text": [
      "Conjunto del Cuerpo de Goppa: \n"
     ]
    },
    {
     "data": {
      "text/html": [
       "<html><script type=\"math/tex; mode=display\">\\newcommand{\\Bold}[1]{\\mathbf{#1}}\\left[1, a, a^{2}, a^{3}, a + 1, a^{2} + a, a^{3} + a^{2}, a^{3} + a + 1, a^{2} + 1, a^{3} + a, a^{2} + a + 1, a^{3} + a^{2} + a, a^{3} + a^{2} + a + 1, a^{3} + a^{2} + 1, a^{3} + 1, 1\\right]</script></html>"
      ],
      "text/latex": [
       "\\begin{math}\n",
       "\\newcommand{\\Bold}[1]{\\mathbf{#1}}\\left[1, a, a^{2}, a^{3}, a + 1, a^{2} + a, a^{3} + a^{2}, a^{3} + a + 1, a^{2} + 1, a^{3} + a, a^{2} + a + 1, a^{3} + a^{2} + a, a^{3} + a^{2} + a + 1, a^{3} + a^{2} + 1, a^{3} + 1, 1\\right]\n",
       "\\end{math}"
      ],
      "text/plain": [
       "[1,\n",
       " a,\n",
       " a^2,\n",
       " a^3,\n",
       " a + 1,\n",
       " a^2 + a,\n",
       " a^3 + a^2,\n",
       " a^3 + a + 1,\n",
       " a^2 + 1,\n",
       " a^3 + a,\n",
       " a^2 + a + 1,\n",
       " a^3 + a^2 + a,\n",
       " a^3 + a^2 + a + 1,\n",
       " a^3 + a^2 + 1,\n",
       " a^3 + 1,\n",
       " 1]"
      ]
     },
     "metadata": {},
     "output_type": "display_data"
    }
   ],
   "source": [
    "# -------------------\n",
    "# Matriz V\n",
    "# -------------------\n",
    "\n",
    "V = matrix([[L[j]^i for j in range(N)] for i in range(rango)])\n",
    "print (\"Matriz V: \")\n",
    "show(V)\n",
    "\n",
    "print(\"Conjunto del Cuerpo de Goppa: \")\n",
    "show(L)"
   ]
  },
  {
   "cell_type": "code",
   "execution_count": 12,
   "metadata": {},
   "outputs": [
    {
     "name": "stdout",
     "output_type": "stream",
     "text": [
      "Matriz D: \n"
     ]
    },
    {
     "data": {
      "text/html": [
       "<html><script type=\"math/tex; mode=display\">\\newcommand{\\Bold}[1]{\\mathbf{#1}}\\left(\\begin{array}{rrrrrrrrrrrrrrrr}\n",
       "1 & 0 & 0 & 0 & 0 & 0 & 0 & 0 & 0 & 0 & 0 & 0 & 0 & 0 & 0 & 0 \\\\\n",
       "0 & a^{2} + 1 & 0 & 0 & 0 & 0 & 0 & 0 & 0 & 0 & 0 & 0 & 0 & 0 & 0 & 0 \\\\\n",
       "0 & 0 & a & 0 & 0 & 0 & 0 & 0 & 0 & 0 & 0 & 0 & 0 & 0 & 0 & 0 \\\\\n",
       "0 & 0 & 0 & a^{3} + a^{2} + a & 0 & 0 & 0 & 0 & 0 & 0 & 0 & 0 & 0 & 0 & 0 & 0 \\\\\n",
       "0 & 0 & 0 & 0 & a^{2} & 0 & 0 & 0 & 0 & 0 & 0 & 0 & 0 & 0 & 0 & 0 \\\\\n",
       "0 & 0 & 0 & 0 & 0 & a^{2} + a + 1 & 0 & 0 & 0 & 0 & 0 & 0 & 0 & 0 & 0 & 0 \\\\\n",
       "0 & 0 & 0 & 0 & 0 & 0 & a^{3} + a + 1 & 0 & 0 & 0 & 0 & 0 & 0 & 0 & 0 & 0 \\\\\n",
       "0 & 0 & 0 & 0 & 0 & 0 & 0 & a^{2} + a + 1 & 0 & 0 & 0 & 0 & 0 & 0 & 0 & 0 \\\\\n",
       "0 & 0 & 0 & 0 & 0 & 0 & 0 & 0 & a + 1 & 0 & 0 & 0 & 0 & 0 & 0 & 0 \\\\\n",
       "0 & 0 & 0 & 0 & 0 & 0 & 0 & 0 & 0 & a^{3} + a^{2} + 1 & 0 & 0 & 0 & 0 & 0 & 0 \\\\\n",
       "0 & 0 & 0 & 0 & 0 & 0 & 0 & 0 & 0 & 0 & a^{2} + a & 0 & 0 & 0 & 0 & 0 \\\\\n",
       "0 & 0 & 0 & 0 & 0 & 0 & 0 & 0 & 0 & 0 & 0 & a^{2} + a & 0 & 0 & 0 & 0 \\\\\n",
       "0 & 0 & 0 & 0 & 0 & 0 & 0 & 0 & 0 & 0 & 0 & 0 & a^{3} + 1 & 0 & 0 & 0 \\\\\n",
       "0 & 0 & 0 & 0 & 0 & 0 & 0 & 0 & 0 & 0 & 0 & 0 & 0 & a^{2} + a + 1 & 0 & 0 \\\\\n",
       "0 & 0 & 0 & 0 & 0 & 0 & 0 & 0 & 0 & 0 & 0 & 0 & 0 & 0 & a^{2} + a & 0 \\\\\n",
       "0 & 0 & 0 & 0 & 0 & 0 & 0 & 0 & 0 & 0 & 0 & 0 & 0 & 0 & 0 & 1\n",
       "\\end{array}\\right)</script></html>"
      ],
      "text/latex": [
       "\\begin{math}\n",
       "\\newcommand{\\Bold}[1]{\\mathbf{#1}}\\left(\\begin{array}{rrrrrrrrrrrrrrrr}\n",
       "1 & 0 & 0 & 0 & 0 & 0 & 0 & 0 & 0 & 0 & 0 & 0 & 0 & 0 & 0 & 0 \\\\\n",
       "0 & a^{2} + 1 & 0 & 0 & 0 & 0 & 0 & 0 & 0 & 0 & 0 & 0 & 0 & 0 & 0 & 0 \\\\\n",
       "0 & 0 & a & 0 & 0 & 0 & 0 & 0 & 0 & 0 & 0 & 0 & 0 & 0 & 0 & 0 \\\\\n",
       "0 & 0 & 0 & a^{3} + a^{2} + a & 0 & 0 & 0 & 0 & 0 & 0 & 0 & 0 & 0 & 0 & 0 & 0 \\\\\n",
       "0 & 0 & 0 & 0 & a^{2} & 0 & 0 & 0 & 0 & 0 & 0 & 0 & 0 & 0 & 0 & 0 \\\\\n",
       "0 & 0 & 0 & 0 & 0 & a^{2} + a + 1 & 0 & 0 & 0 & 0 & 0 & 0 & 0 & 0 & 0 & 0 \\\\\n",
       "0 & 0 & 0 & 0 & 0 & 0 & a^{3} + a + 1 & 0 & 0 & 0 & 0 & 0 & 0 & 0 & 0 & 0 \\\\\n",
       "0 & 0 & 0 & 0 & 0 & 0 & 0 & a^{2} + a + 1 & 0 & 0 & 0 & 0 & 0 & 0 & 0 & 0 \\\\\n",
       "0 & 0 & 0 & 0 & 0 & 0 & 0 & 0 & a + 1 & 0 & 0 & 0 & 0 & 0 & 0 & 0 \\\\\n",
       "0 & 0 & 0 & 0 & 0 & 0 & 0 & 0 & 0 & a^{3} + a^{2} + 1 & 0 & 0 & 0 & 0 & 0 & 0 \\\\\n",
       "0 & 0 & 0 & 0 & 0 & 0 & 0 & 0 & 0 & 0 & a^{2} + a & 0 & 0 & 0 & 0 & 0 \\\\\n",
       "0 & 0 & 0 & 0 & 0 & 0 & 0 & 0 & 0 & 0 & 0 & a^{2} + a & 0 & 0 & 0 & 0 \\\\\n",
       "0 & 0 & 0 & 0 & 0 & 0 & 0 & 0 & 0 & 0 & 0 & 0 & a^{3} + 1 & 0 & 0 & 0 \\\\\n",
       "0 & 0 & 0 & 0 & 0 & 0 & 0 & 0 & 0 & 0 & 0 & 0 & 0 & a^{2} + a + 1 & 0 & 0 \\\\\n",
       "0 & 0 & 0 & 0 & 0 & 0 & 0 & 0 & 0 & 0 & 0 & 0 & 0 & 0 & a^{2} + a & 0 \\\\\n",
       "0 & 0 & 0 & 0 & 0 & 0 & 0 & 0 & 0 & 0 & 0 & 0 & 0 & 0 & 0 & 1\n",
       "\\end{array}\\right)\n",
       "\\end{math}"
      ],
      "text/plain": [
       "[            1             0             0             0             0             0             0             0             0             0             0             0             0             0             0             0]\n",
       "[            0       a^2 + 1             0             0             0             0             0             0             0             0             0             0             0             0             0             0]\n",
       "[            0             0             a             0             0             0             0             0             0             0             0             0             0             0             0             0]\n",
       "[            0             0             0 a^3 + a^2 + a             0             0             0             0             0             0             0             0             0             0             0             0]\n",
       "[            0             0             0             0           a^2             0             0             0             0             0             0             0             0             0             0             0]\n",
       "[            0             0             0             0             0   a^2 + a + 1             0             0             0             0             0             0             0             0             0             0]\n",
       "[            0             0             0             0             0             0   a^3 + a + 1             0             0             0             0             0             0             0             0             0]\n",
       "[            0             0             0             0             0             0             0   a^2 + a + 1             0             0             0             0             0             0             0             0]\n",
       "[            0             0             0             0             0             0             0             0         a + 1             0             0             0             0             0             0             0]\n",
       "[            0             0             0             0             0             0             0             0             0 a^3 + a^2 + 1             0             0             0             0             0             0]\n",
       "[            0             0             0             0             0             0             0             0             0             0       a^2 + a             0             0             0             0             0]\n",
       "[            0             0             0             0             0             0             0             0             0             0             0       a^2 + a             0             0             0             0]\n",
       "[            0             0             0             0             0             0             0             0             0             0             0             0       a^3 + 1             0             0             0]\n",
       "[            0             0             0             0             0             0             0             0             0             0             0             0             0   a^2 + a + 1             0             0]\n",
       "[            0             0             0             0             0             0             0             0             0             0             0             0             0             0       a^2 + a             0]\n",
       "[            0             0             0             0             0             0             0             0             0             0             0             0             0             0             0             1]"
      ]
     },
     "metadata": {},
     "output_type": "display_data"
    }
   ],
   "source": [
    "# -------------------\n",
    "# Matriz D\n",
    "# -------------------\n",
    "\n",
    "D = diagonal_matrix([1/g(L[i]) for i in range(N)])\n",
    "print (\"Matriz D: \")\n",
    "show(D)"
   ]
  },
  {
   "cell_type": "code",
   "execution_count": 13,
   "metadata": {},
   "outputs": [
    {
     "name": "stdout",
     "output_type": "stream",
     "text": [
      "Matriz H: \n"
     ]
    },
    {
     "data": {
      "text/html": [
       "<html><script type=\"math/tex; mode=display\">\\newcommand{\\Bold}[1]{\\mathbf{#1}}\\left(\\begin{array}{rrrrrrrrrrrrrrrr}\n",
       "1 & a^{2} + 1 & a & a^{3} + a^{2} + a & a^{2} & a^{2} + a + 1 & a^{3} + a + 1 & a^{2} + a + 1 & a + 1 & a^{3} + a^{2} + 1 & a^{2} + a & a^{2} + a & a^{3} + 1 & a^{2} + a + 1 & a^{2} + a & 1 \\\\\n",
       "1 & a^{3} + a & a^{3} & a^{3} + 1 & a^{3} + a^{2} & 1 & a^{3} + a^{2} + 1 & a^{2} & a^{3} + a^{2} + a + 1 & a^{3} + a + 1 & 1 & a & a^{3} + a^{2} + a & a^{2} + 1 & a + 1 & 1 \\\\\n",
       "0 & a & a^{2} & a^{3} + a & a + 1 & 1 & a^{3} & a^{3} + a^{2} + 1 & a^{2} + 1 & a^{3} + a^{2} + a + 1 & 1 & a^{3} + 1 & a^{3} + a^{2} & a^{3} + a + 1 & a^{3} + a^{2} + a & 0\n",
       "\\end{array}\\right)</script></html>"
      ],
      "text/latex": [
       "\\begin{math}\n",
       "\\newcommand{\\Bold}[1]{\\mathbf{#1}}\\left(\\begin{array}{rrrrrrrrrrrrrrrr}\n",
       "1 & a^{2} + 1 & a & a^{3} + a^{2} + a & a^{2} & a^{2} + a + 1 & a^{3} + a + 1 & a^{2} + a + 1 & a + 1 & a^{3} + a^{2} + 1 & a^{2} + a & a^{2} + a & a^{3} + 1 & a^{2} + a + 1 & a^{2} + a & 1 \\\\\n",
       "1 & a^{3} + a & a^{3} & a^{3} + 1 & a^{3} + a^{2} & 1 & a^{3} + a^{2} + 1 & a^{2} & a^{3} + a^{2} + a + 1 & a^{3} + a + 1 & 1 & a & a^{3} + a^{2} + a & a^{2} + 1 & a + 1 & 1 \\\\\n",
       "0 & a & a^{2} & a^{3} + a & a + 1 & 1 & a^{3} & a^{3} + a^{2} + 1 & a^{2} + 1 & a^{3} + a^{2} + a + 1 & 1 & a^{3} + 1 & a^{3} + a^{2} & a^{3} + a + 1 & a^{3} + a^{2} + a & 0\n",
       "\\end{array}\\right)\n",
       "\\end{math}"
      ],
      "text/plain": [
       "[                1           a^2 + 1                 a     a^3 + a^2 + a               a^2       a^2 + a + 1       a^3 + a + 1       a^2 + a + 1             a + 1     a^3 + a^2 + 1           a^2 + a           a^2 + a           a^3 + 1       a^2 + a + 1           a^2 + a                 1]\n",
       "[                1           a^3 + a               a^3           a^3 + 1         a^3 + a^2                 1     a^3 + a^2 + 1               a^2 a^3 + a^2 + a + 1       a^3 + a + 1                 1                 a     a^3 + a^2 + a           a^2 + 1             a + 1                 1]\n",
       "[                0                 a               a^2           a^3 + a             a + 1                 1               a^3     a^3 + a^2 + 1           a^2 + 1 a^3 + a^2 + a + 1                 1           a^3 + 1         a^3 + a^2       a^3 + a + 1     a^3 + a^2 + a                 0]"
      ]
     },
     "metadata": {},
     "output_type": "display_data"
    }
   ],
   "source": [
    "# -------------------\n",
    "# Matriz H\n",
    "# -------------------\n",
    "\n",
    "H = T*V*D\n",
    "print (\"Matriz H: \")\n",
    "show(H)"
   ]
  },
  {
   "cell_type": "code",
   "execution_count": 14,
   "metadata": {},
   "outputs": [
    {
     "name": "stdout",
     "output_type": "stream",
     "text": [
      "Matriz H_Goppa_K: \n"
     ]
    },
    {
     "data": {
      "text/html": [
       "<html><script type=\"math/tex; mode=display\">\\newcommand{\\Bold}[1]{\\mathbf{#1}}\\left(\\begin{array}{rrrrrrrrrrrrrrrr}\n",
       "0 & 0 & 0 & 1 & 0 & 0 & 1 & 0 & 0 & 1 & 0 & 0 & 1 & 0 & 0 & 0 \\\\\n",
       "0 & 1 & 0 & 1 & 1 & 1 & 0 & 1 & 0 & 1 & 1 & 1 & 0 & 1 & 1 & 0 \\\\\n",
       "0 & 0 & 1 & 1 & 0 & 1 & 1 & 1 & 1 & 0 & 1 & 1 & 0 & 1 & 1 & 0 \\\\\n",
       "1 & 1 & 0 & 0 & 0 & 1 & 1 & 1 & 1 & 1 & 0 & 0 & 1 & 1 & 0 & 1 \\\\\n",
       "0 & 1 & 1 & 1 & 1 & 0 & 1 & 0 & 1 & 1 & 0 & 0 & 1 & 0 & 0 & 0 \\\\\n",
       "0 & 0 & 0 & 0 & 1 & 0 & 1 & 1 & 1 & 0 & 0 & 0 & 1 & 1 & 0 & 0 \\\\\n",
       "0 & 1 & 0 & 0 & 0 & 0 & 0 & 0 & 1 & 1 & 0 & 1 & 1 & 0 & 1 & 0 \\\\\n",
       "1 & 0 & 0 & 1 & 0 & 1 & 1 & 0 & 1 & 1 & 1 & 0 & 0 & 1 & 1 & 1 \\\\\n",
       "0 & 0 & 0 & 1 & 0 & 0 & 1 & 1 & 0 & 1 & 0 & 1 & 1 & 1 & 1 & 0 \\\\\n",
       "0 & 0 & 1 & 0 & 0 & 0 & 0 & 1 & 1 & 1 & 0 & 0 & 1 & 0 & 1 & 0 \\\\\n",
       "0 & 1 & 0 & 1 & 1 & 0 & 0 & 0 & 0 & 1 & 0 & 0 & 0 & 1 & 1 & 0 \\\\\n",
       "0 & 0 & 0 & 0 & 1 & 1 & 0 & 1 & 1 & 1 & 1 & 1 & 0 & 1 & 0 & 0\n",
       "\\end{array}\\right)</script></html>"
      ],
      "text/latex": [
       "\\begin{math}\n",
       "\\newcommand{\\Bold}[1]{\\mathbf{#1}}\\left(\\begin{array}{rrrrrrrrrrrrrrrr}\n",
       "0 & 0 & 0 & 1 & 0 & 0 & 1 & 0 & 0 & 1 & 0 & 0 & 1 & 0 & 0 & 0 \\\\\n",
       "0 & 1 & 0 & 1 & 1 & 1 & 0 & 1 & 0 & 1 & 1 & 1 & 0 & 1 & 1 & 0 \\\\\n",
       "0 & 0 & 1 & 1 & 0 & 1 & 1 & 1 & 1 & 0 & 1 & 1 & 0 & 1 & 1 & 0 \\\\\n",
       "1 & 1 & 0 & 0 & 0 & 1 & 1 & 1 & 1 & 1 & 0 & 0 & 1 & 1 & 0 & 1 \\\\\n",
       "0 & 1 & 1 & 1 & 1 & 0 & 1 & 0 & 1 & 1 & 0 & 0 & 1 & 0 & 0 & 0 \\\\\n",
       "0 & 0 & 0 & 0 & 1 & 0 & 1 & 1 & 1 & 0 & 0 & 0 & 1 & 1 & 0 & 0 \\\\\n",
       "0 & 1 & 0 & 0 & 0 & 0 & 0 & 0 & 1 & 1 & 0 & 1 & 1 & 0 & 1 & 0 \\\\\n",
       "1 & 0 & 0 & 1 & 0 & 1 & 1 & 0 & 1 & 1 & 1 & 0 & 0 & 1 & 1 & 1 \\\\\n",
       "0 & 0 & 0 & 1 & 0 & 0 & 1 & 1 & 0 & 1 & 0 & 1 & 1 & 1 & 1 & 0 \\\\\n",
       "0 & 0 & 1 & 0 & 0 & 0 & 0 & 1 & 1 & 1 & 0 & 0 & 1 & 0 & 1 & 0 \\\\\n",
       "0 & 1 & 0 & 1 & 1 & 0 & 0 & 0 & 0 & 1 & 0 & 0 & 0 & 1 & 1 & 0 \\\\\n",
       "0 & 0 & 0 & 0 & 1 & 1 & 0 & 1 & 1 & 1 & 1 & 1 & 0 & 1 & 0 & 0\n",
       "\\end{array}\\right)\n",
       "\\end{math}"
      ],
      "text/plain": [
       "[0 0 0 1 0 0 1 0 0 1 0 0 1 0 0 0]\n",
       "[0 1 0 1 1 1 0 1 0 1 1 1 0 1 1 0]\n",
       "[0 0 1 1 0 1 1 1 1 0 1 1 0 1 1 0]\n",
       "[1 1 0 0 0 1 1 1 1 1 0 0 1 1 0 1]\n",
       "[0 1 1 1 1 0 1 0 1 1 0 0 1 0 0 0]\n",
       "[0 0 0 0 1 0 1 1 1 0 0 0 1 1 0 0]\n",
       "[0 1 0 0 0 0 0 0 1 1 0 1 1 0 1 0]\n",
       "[1 0 0 1 0 1 1 0 1 1 1 0 0 1 1 1]\n",
       "[0 0 0 1 0 0 1 1 0 1 0 1 1 1 1 0]\n",
       "[0 0 1 0 0 0 0 1 1 1 0 0 1 0 1 0]\n",
       "[0 1 0 1 1 0 0 0 0 1 0 0 0 1 1 0]\n",
       "[0 0 0 0 1 1 0 1 1 1 1 1 0 1 0 0]"
      ]
     },
     "metadata": {},
     "output_type": "display_data"
    }
   ],
   "source": [
    "# -------------------\n",
    "# Matriz H Goppa K\n",
    "# -------------------\n",
    "\n",
    "H_Goppa_K = matrix(K_, m*H.nrows(),H.ncols())\n",
    "\n",
    "for i in range(H.nrows()):\n",
    "    for j in range(H.ncols()):\n",
    "        be = bin(eval(H[i,j]._int_repr()))[2:];\n",
    "        be = '0'*(m-len(be))+be; be = list(be);\n",
    "        H_Goppa_K[m*i:m*(i+1),j]=vector(map(int,be));\n",
    "\n",
    "print (\"Matriz H_Goppa_K: \")\n",
    "show(H_Goppa_K)"
   ]
  },
  {
   "cell_type": "code",
   "execution_count": 15,
   "metadata": {},
   "outputs": [
    {
     "name": "stdout",
     "output_type": "stream",
     "text": [
      "Matriz Krnl: \n"
     ]
    },
    {
     "data": {
      "text/html": [
       "<html><script type=\"math/tex; mode=display\">\\newcommand{\\Bold}[1]{\\mathbf{#1}}\\mathrm{RowSpan}_{\\Bold{F}_{2}}\\left(\\begin{array}{rrrrrrrrrrrrrrrr}\n",
       "1 & 0 & 0 & 0 & 0 & 0 & 0 & 0 & 0 & 0 & 0 & 0 & 0 & 0 & 0 & 1 \\\\\n",
       "0 & 1 & 0 & 0 & 1 & 1 & 1 & 0 & 0 & 1 & 0 & 1 & 0 & 0 & 1 & 0 \\\\\n",
       "0 & 0 & 1 & 0 & 0 & 0 & 1 & 0 & 1 & 1 & 1 & 1 & 0 & 0 & 1 & 1 \\\\\n",
       "0 & 0 & 0 & 1 & 0 & 0 & 1 & 1 & 0 & 1 & 0 & 1 & 1 & 1 & 1 & 1\n",
       "\\end{array}\\right)</script></html>"
      ],
      "text/latex": [
       "\\begin{math}\n",
       "\\newcommand{\\Bold}[1]{\\mathbf{#1}}\\mathrm{RowSpan}_{\\Bold{F}_{2}}\\left(\\begin{array}{rrrrrrrrrrrrrrrr}\n",
       "1 & 0 & 0 & 0 & 0 & 0 & 0 & 0 & 0 & 0 & 0 & 0 & 0 & 0 & 0 & 1 \\\\\n",
       "0 & 1 & 0 & 0 & 1 & 1 & 1 & 0 & 0 & 1 & 0 & 1 & 0 & 0 & 1 & 0 \\\\\n",
       "0 & 0 & 1 & 0 & 0 & 0 & 1 & 0 & 1 & 1 & 1 & 1 & 0 & 0 & 1 & 1 \\\\\n",
       "0 & 0 & 0 & 1 & 0 & 0 & 1 & 1 & 0 & 1 & 0 & 1 & 1 & 1 & 1 & 1\n",
       "\\end{array}\\right)\n",
       "\\end{math}"
      ],
      "text/plain": [
       "Vector space of degree 16 and dimension 4 over Finite Field of size 2\n",
       "Basis matrix:\n",
       "[1 0 0 0 0 0 0 0 0 0 0 0 0 0 0 1]\n",
       "[0 1 0 0 1 1 1 0 0 1 0 1 0 0 1 0]\n",
       "[0 0 1 0 0 0 1 0 1 1 1 1 0 0 1 1]\n",
       "[0 0 0 1 0 0 1 1 0 1 0 1 1 1 1 1]"
      ]
     },
     "metadata": {},
     "output_type": "display_data"
    }
   ],
   "source": [
    "# -------------------\n",
    "# Matriz Kernel\n",
    "# -------------------\n",
    "\n",
    "Krnl = H_Goppa_K.right_kernel();\n",
    "print (\"Matriz Krnl: \")\n",
    "show(Krnl)"
   ]
  },
  {
   "cell_type": "code",
   "execution_count": 16,
   "metadata": {},
   "outputs": [
    {
     "name": "stdout",
     "output_type": "stream",
     "text": [
      "Matriz G: \n"
     ]
    },
    {
     "data": {
      "text/html": [
       "<html><script type=\"math/tex; mode=display\">\\newcommand{\\Bold}[1]{\\mathbf{#1}}\\left(\\begin{array}{rrrrrrrrrrrrrrrr}\n",
       "1 & 0 & 0 & 0 & 0 & 0 & 0 & 0 & 0 & 0 & 0 & 0 & 0 & 0 & 0 & 1 \\\\\n",
       "0 & 1 & 0 & 0 & 1 & 1 & 1 & 0 & 0 & 1 & 0 & 1 & 0 & 0 & 1 & 0 \\\\\n",
       "0 & 0 & 1 & 0 & 0 & 0 & 1 & 0 & 1 & 1 & 1 & 1 & 0 & 0 & 1 & 1 \\\\\n",
       "0 & 0 & 0 & 1 & 0 & 0 & 1 & 1 & 0 & 1 & 0 & 1 & 1 & 1 & 1 & 1\n",
       "\\end{array}\\right)</script></html>"
      ],
      "text/latex": [
       "\\begin{math}\n",
       "\\newcommand{\\Bold}[1]{\\mathbf{#1}}\\left(\\begin{array}{rrrrrrrrrrrrrrrr}\n",
       "1 & 0 & 0 & 0 & 0 & 0 & 0 & 0 & 0 & 0 & 0 & 0 & 0 & 0 & 0 & 1 \\\\\n",
       "0 & 1 & 0 & 0 & 1 & 1 & 1 & 0 & 0 & 1 & 0 & 1 & 0 & 0 & 1 & 0 \\\\\n",
       "0 & 0 & 1 & 0 & 0 & 0 & 1 & 0 & 1 & 1 & 1 & 1 & 0 & 0 & 1 & 1 \\\\\n",
       "0 & 0 & 0 & 1 & 0 & 0 & 1 & 1 & 0 & 1 & 0 & 1 & 1 & 1 & 1 & 1\n",
       "\\end{array}\\right)\n",
       "\\end{math}"
      ],
      "text/plain": [
       "[1 0 0 0 0 0 0 0 0 0 0 0 0 0 0 1]\n",
       "[0 1 0 0 1 1 1 0 0 1 0 1 0 0 1 0]\n",
       "[0 0 1 0 0 0 1 0 1 1 1 1 0 0 1 1]\n",
       "[0 0 0 1 0 0 1 1 0 1 0 1 1 1 1 1]"
      ]
     },
     "metadata": {},
     "output_type": "display_data"
    }
   ],
   "source": [
    "# -------------------\n",
    "# Matriz G\n",
    "# -------------------\n",
    "\n",
    "G = Krnl.basis_matrix();\n",
    "print (\"Matriz G: \")\n",
    "show(G)"
   ]
  },
  {
   "cell_type": "markdown",
   "metadata": {},
   "source": [
    "## Construcción matrices S y P, completando la clave privada (G, S, P)"
   ]
  },
  {
   "cell_type": "code",
   "execution_count": 17,
   "metadata": {},
   "outputs": [
    {
     "name": "stdout",
     "output_type": "stream",
     "text": [
      "Matriz S: \n"
     ]
    },
    {
     "data": {
      "text/html": [
       "<html><script type=\"math/tex; mode=display\">\\newcommand{\\Bold}[1]{\\mathbf{#1}}\\left(\\begin{array}{rrrr}\n",
       "1 & 1 & 0 & 1 \\\\\n",
       "0 & 0 & 0 & 1 \\\\\n",
       "0 & 1 & 1 & 0 \\\\\n",
       "0 & 1 & 0 & 0\n",
       "\\end{array}\\right)</script></html>"
      ],
      "text/latex": [
       "\\begin{math}\n",
       "\\newcommand{\\Bold}[1]{\\mathbf{#1}}\\left(\\begin{array}{rrrr}\n",
       "1 & 1 & 0 & 1 \\\\\n",
       "0 & 0 & 0 & 1 \\\\\n",
       "0 & 1 & 1 & 0 \\\\\n",
       "0 & 1 & 0 & 0\n",
       "\\end{array}\\right)\n",
       "\\end{math}"
      ],
      "text/plain": [
       "[1 1 0 1]\n",
       "[0 0 0 1]\n",
       "[0 1 1 0]\n",
       "[0 1 0 0]"
      ]
     },
     "metadata": {},
     "output_type": "display_data"
    }
   ],
   "source": [
    "# -------------------\n",
    "# Matriz S\n",
    "# -------------------\n",
    "\n",
    "S = random_matrix(GF(2), N-m*rango)\n",
    "\n",
    "while (S.determinant()==0):\n",
    "    S = random_matrix(GF(2), N-m*rango)\n",
    "\n",
    "print (\"Matriz S: \")\n",
    "show(S)"
   ]
  },
  {
   "cell_type": "code",
   "execution_count": 18,
   "metadata": {},
   "outputs": [
    {
     "name": "stdout",
     "output_type": "stream",
     "text": [
      "Matriz P: \n"
     ]
    },
    {
     "data": {
      "text/html": [
       "<html><script type=\"math/tex; mode=display\">\\newcommand{\\Bold}[1]{\\mathbf{#1}}\\left(\\begin{array}{rrrrrrrrrrrrrrrr}\n",
       "0 & 0 & 1 & 0 & 0 & 0 & 0 & 0 & 0 & 0 & 0 & 0 & 0 & 0 & 0 & 0 \\\\\n",
       "0 & 0 & 0 & 0 & 0 & 0 & 0 & 0 & 0 & 1 & 0 & 0 & 0 & 0 & 0 & 0 \\\\\n",
       "0 & 0 & 0 & 0 & 0 & 0 & 0 & 0 & 0 & 0 & 0 & 0 & 1 & 0 & 0 & 0 \\\\\n",
       "0 & 0 & 0 & 1 & 0 & 0 & 0 & 0 & 0 & 0 & 0 & 0 & 0 & 0 & 0 & 0 \\\\\n",
       "0 & 0 & 0 & 0 & 0 & 0 & 0 & 0 & 0 & 0 & 0 & 0 & 0 & 0 & 0 & 1 \\\\\n",
       "0 & 0 & 0 & 0 & 0 & 0 & 0 & 0 & 1 & 0 & 0 & 0 & 0 & 0 & 0 & 0 \\\\\n",
       "0 & 0 & 0 & 0 & 0 & 0 & 0 & 0 & 0 & 0 & 0 & 1 & 0 & 0 & 0 & 0 \\\\\n",
       "0 & 0 & 0 & 0 & 0 & 0 & 0 & 0 & 0 & 0 & 1 & 0 & 0 & 0 & 0 & 0 \\\\\n",
       "0 & 0 & 0 & 0 & 0 & 0 & 0 & 0 & 0 & 0 & 0 & 0 & 0 & 0 & 1 & 0 \\\\\n",
       "0 & 0 & 0 & 0 & 1 & 0 & 0 & 0 & 0 & 0 & 0 & 0 & 0 & 0 & 0 & 0 \\\\\n",
       "0 & 1 & 0 & 0 & 0 & 0 & 0 & 0 & 0 & 0 & 0 & 0 & 0 & 0 & 0 & 0 \\\\\n",
       "1 & 0 & 0 & 0 & 0 & 0 & 0 & 0 & 0 & 0 & 0 & 0 & 0 & 0 & 0 & 0 \\\\\n",
       "0 & 0 & 0 & 0 & 0 & 0 & 0 & 1 & 0 & 0 & 0 & 0 & 0 & 0 & 0 & 0 \\\\\n",
       "0 & 0 & 0 & 0 & 0 & 0 & 0 & 0 & 0 & 0 & 0 & 0 & 0 & 1 & 0 & 0 \\\\\n",
       "0 & 0 & 0 & 0 & 0 & 1 & 0 & 0 & 0 & 0 & 0 & 0 & 0 & 0 & 0 & 0 \\\\\n",
       "0 & 0 & 0 & 0 & 0 & 0 & 1 & 0 & 0 & 0 & 0 & 0 & 0 & 0 & 0 & 0\n",
       "\\end{array}\\right)</script></html>"
      ],
      "text/latex": [
       "\\begin{math}\n",
       "\\newcommand{\\Bold}[1]{\\mathbf{#1}}\\left(\\begin{array}{rrrrrrrrrrrrrrrr}\n",
       "0 & 0 & 1 & 0 & 0 & 0 & 0 & 0 & 0 & 0 & 0 & 0 & 0 & 0 & 0 & 0 \\\\\n",
       "0 & 0 & 0 & 0 & 0 & 0 & 0 & 0 & 0 & 1 & 0 & 0 & 0 & 0 & 0 & 0 \\\\\n",
       "0 & 0 & 0 & 0 & 0 & 0 & 0 & 0 & 0 & 0 & 0 & 0 & 1 & 0 & 0 & 0 \\\\\n",
       "0 & 0 & 0 & 1 & 0 & 0 & 0 & 0 & 0 & 0 & 0 & 0 & 0 & 0 & 0 & 0 \\\\\n",
       "0 & 0 & 0 & 0 & 0 & 0 & 0 & 0 & 0 & 0 & 0 & 0 & 0 & 0 & 0 & 1 \\\\\n",
       "0 & 0 & 0 & 0 & 0 & 0 & 0 & 0 & 1 & 0 & 0 & 0 & 0 & 0 & 0 & 0 \\\\\n",
       "0 & 0 & 0 & 0 & 0 & 0 & 0 & 0 & 0 & 0 & 0 & 1 & 0 & 0 & 0 & 0 \\\\\n",
       "0 & 0 & 0 & 0 & 0 & 0 & 0 & 0 & 0 & 0 & 1 & 0 & 0 & 0 & 0 & 0 \\\\\n",
       "0 & 0 & 0 & 0 & 0 & 0 & 0 & 0 & 0 & 0 & 0 & 0 & 0 & 0 & 1 & 0 \\\\\n",
       "0 & 0 & 0 & 0 & 1 & 0 & 0 & 0 & 0 & 0 & 0 & 0 & 0 & 0 & 0 & 0 \\\\\n",
       "0 & 1 & 0 & 0 & 0 & 0 & 0 & 0 & 0 & 0 & 0 & 0 & 0 & 0 & 0 & 0 \\\\\n",
       "1 & 0 & 0 & 0 & 0 & 0 & 0 & 0 & 0 & 0 & 0 & 0 & 0 & 0 & 0 & 0 \\\\\n",
       "0 & 0 & 0 & 0 & 0 & 0 & 0 & 1 & 0 & 0 & 0 & 0 & 0 & 0 & 0 & 0 \\\\\n",
       "0 & 0 & 0 & 0 & 0 & 0 & 0 & 0 & 0 & 0 & 0 & 0 & 0 & 1 & 0 & 0 \\\\\n",
       "0 & 0 & 0 & 0 & 0 & 1 & 0 & 0 & 0 & 0 & 0 & 0 & 0 & 0 & 0 & 0 \\\\\n",
       "0 & 0 & 0 & 0 & 0 & 0 & 1 & 0 & 0 & 0 & 0 & 0 & 0 & 0 & 0 & 0\n",
       "\\end{array}\\right)\n",
       "\\end{math}"
      ],
      "text/plain": [
       "[0 0 1 0 0 0 0 0 0 0 0 0 0 0 0 0]\n",
       "[0 0 0 0 0 0 0 0 0 1 0 0 0 0 0 0]\n",
       "[0 0 0 0 0 0 0 0 0 0 0 0 1 0 0 0]\n",
       "[0 0 0 1 0 0 0 0 0 0 0 0 0 0 0 0]\n",
       "[0 0 0 0 0 0 0 0 0 0 0 0 0 0 0 1]\n",
       "[0 0 0 0 0 0 0 0 1 0 0 0 0 0 0 0]\n",
       "[0 0 0 0 0 0 0 0 0 0 0 1 0 0 0 0]\n",
       "[0 0 0 0 0 0 0 0 0 0 1 0 0 0 0 0]\n",
       "[0 0 0 0 0 0 0 0 0 0 0 0 0 0 1 0]\n",
       "[0 0 0 0 1 0 0 0 0 0 0 0 0 0 0 0]\n",
       "[0 1 0 0 0 0 0 0 0 0 0 0 0 0 0 0]\n",
       "[1 0 0 0 0 0 0 0 0 0 0 0 0 0 0 0]\n",
       "[0 0 0 0 0 0 0 1 0 0 0 0 0 0 0 0]\n",
       "[0 0 0 0 0 0 0 0 0 0 0 0 0 1 0 0]\n",
       "[0 0 0 0 0 1 0 0 0 0 0 0 0 0 0 0]\n",
       "[0 0 0 0 0 0 1 0 0 0 0 0 0 0 0 0]"
      ]
     },
     "metadata": {},
     "output_type": "display_data"
    }
   ],
   "source": [
    "# -------------------\n",
    "# Matriz P\n",
    "# -------------------\n",
    "\n",
    "rng = range(N)\n",
    "\n",
    "P = matrix(GF(2),N);\n",
    "\n",
    "for i in range(N):\n",
    "    p = floor(len(rng)*random());\n",
    "    P[i,rng[p]]=1;\n",
    "    rng=[*rng[:p], *rng[p+1:]];\n",
    "\n",
    "print (\"Matriz P: \")\n",
    "show(P)"
   ]
  },
  {
   "cell_type": "markdown",
   "metadata": {},
   "source": [
    "## Matriz de clave pública G'"
   ]
  },
  {
   "cell_type": "code",
   "execution_count": 19,
   "metadata": {
    "scrolled": false
   },
   "outputs": [
    {
     "name": "stdout",
     "output_type": "stream",
     "text": [
      "Matriz G_prima: \n"
     ]
    },
    {
     "data": {
      "text/html": [
       "<html><script type=\"math/tex; mode=display\">\\newcommand{\\Bold}[1]{\\mathbf{#1}}\\left(\\begin{array}{rrrrrrrrrrrrrrrr}\n",
       "0 & 0 & 1 & 1 & 0 & 0 & 0 & 1 & 1 & 1 & 1 & 0 & 0 & 1 & 0 & 1 \\\\\n",
       "1 & 0 & 0 & 1 & 1 & 1 & 1 & 1 & 0 & 0 & 1 & 1 & 0 & 1 & 0 & 0 \\\\\n",
       "0 & 1 & 0 & 0 & 0 & 0 & 1 & 0 & 1 & 1 & 0 & 0 & 1 & 0 & 1 & 1 \\\\\n",
       "1 & 0 & 0 & 0 & 1 & 1 & 0 & 0 & 1 & 1 & 0 & 1 & 0 & 0 & 0 & 1\n",
       "\\end{array}\\right)</script></html>"
      ],
      "text/latex": [
       "\\begin{math}\n",
       "\\newcommand{\\Bold}[1]{\\mathbf{#1}}\\left(\\begin{array}{rrrrrrrrrrrrrrrr}\n",
       "0 & 0 & 1 & 1 & 0 & 0 & 0 & 1 & 1 & 1 & 1 & 0 & 0 & 1 & 0 & 1 \\\\\n",
       "1 & 0 & 0 & 1 & 1 & 1 & 1 & 1 & 0 & 0 & 1 & 1 & 0 & 1 & 0 & 0 \\\\\n",
       "0 & 1 & 0 & 0 & 0 & 0 & 1 & 0 & 1 & 1 & 0 & 0 & 1 & 0 & 1 & 1 \\\\\n",
       "1 & 0 & 0 & 0 & 1 & 1 & 0 & 0 & 1 & 1 & 0 & 1 & 0 & 0 & 0 & 1\n",
       "\\end{array}\\right)\n",
       "\\end{math}"
      ],
      "text/plain": [
       "[0 0 1 1 0 0 0 1 1 1 1 0 0 1 0 1]\n",
       "[1 0 0 1 1 1 1 1 0 0 1 1 0 1 0 0]\n",
       "[0 1 0 0 0 0 1 0 1 1 0 0 1 0 1 1]\n",
       "[1 0 0 0 1 1 0 0 1 1 0 1 0 0 0 1]"
      ]
     },
     "metadata": {},
     "output_type": "display_data"
    }
   ],
   "source": [
    "# -------------------\n",
    "# Matriz G'\n",
    "# -------------------\n",
    "G_prima = S*G*P\n",
    "\n",
    "print (\"Matriz G_prima: \")\n",
    "show(G_prima)"
   ]
  },
  {
   "cell_type": "markdown",
   "metadata": {},
   "source": [
    "## Veamos un ejemplo de envío de un mensaje"
   ]
  },
  {
   "cell_type": "markdown",
   "metadata": {},
   "source": [
    "Supongamos que Alice tiene clave pública G', y Bob quiere enviarle un mensaje."
   ]
  },
  {
   "cell_type": "markdown",
   "metadata": {},
   "source": [
    "### Cifrado\n",
    "Proceso de cifrado:"
   ]
  },
  {
   "cell_type": "markdown",
   "metadata": {},
   "source": [
    "1. Bob quiere cifrar un mensaje binario $\\textbf{m}$ de longitud igual al número de filas que $G'$"
   ]
  },
  {
   "cell_type": "code",
   "execution_count": 20,
   "metadata": {},
   "outputs": [
    {
     "name": "stdout",
     "output_type": "stream",
     "text": [
      "Vector m\n"
     ]
    },
    {
     "data": {
      "text/html": [
       "<html><script type=\"math/tex; mode=display\">\\newcommand{\\Bold}[1]{\\mathbf{#1}}\\left(1,\\,0,\\,1,\\,0\\right)</script></html>"
      ],
      "text/latex": [
       "\\begin{math}\n",
       "\\newcommand{\\Bold}[1]{\\mathbf{#1}}\\left(1,\\,0,\\,1,\\,0\\right)\n",
       "\\end{math}"
      ],
      "text/plain": [
       "(1, 0, 1, 0)"
      ]
     },
     "metadata": {},
     "output_type": "display_data"
    }
   ],
   "source": [
    "m = vector(K_,[randint(0,1) for _ in range(G_prima.nrows())]) # mensaje cualquiera\n",
    "print(\"Vector m\");\n",
    "show(m)"
   ]
  },
  {
   "cell_type": "markdown",
   "metadata": {},
   "source": [
    "2. Bob calcula el vector $\\textbf{c} = \\textbf{m}G'$"
   ]
  },
  {
   "cell_type": "code",
   "execution_count": 21,
   "metadata": {},
   "outputs": [
    {
     "name": "stdout",
     "output_type": "stream",
     "text": [
      "Vector c\n"
     ]
    },
    {
     "data": {
      "text/html": [
       "<html><script type=\"math/tex; mode=display\">\\newcommand{\\Bold}[1]{\\mathbf{#1}}\\left(0,\\,1,\\,1,\\,1,\\,0,\\,0,\\,1,\\,1,\\,0,\\,0,\\,1,\\,0,\\,1,\\,1,\\,1,\\,0\\right)</script></html>"
      ],
      "text/latex": [
       "\\begin{math}\n",
       "\\newcommand{\\Bold}[1]{\\mathbf{#1}}\\left(0,\\,1,\\,1,\\,1,\\,0,\\,0,\\,1,\\,1,\\,0,\\,0,\\,1,\\,0,\\,1,\\,1,\\,1,\\,0\\right)\n",
       "\\end{math}"
      ],
      "text/plain": [
       "(0, 1, 1, 1, 0, 0, 1, 1, 0, 0, 1, 0, 1, 1, 1, 0)"
      ]
     },
     "metadata": {},
     "output_type": "display_data"
    }
   ],
   "source": [
    "c = m*G_prima\n",
    "print(\"Vector c\");\n",
    "show(c)"
   ]
  },
  {
   "cell_type": "markdown",
   "metadata": {},
   "source": [
    "3. Bob genera el vector de errores $\\textbf{e}$ con peso $\\textbf{wt(e)} = \\textbf{t}$"
   ]
  },
  {
   "cell_type": "code",
   "execution_count": 22,
   "metadata": {},
   "outputs": [
    {
     "name": "stdout",
     "output_type": "stream",
     "text": [
      "Vector de errores e\n"
     ]
    },
    {
     "data": {
      "text/html": [
       "<html><script type=\"math/tex; mode=display\">\\newcommand{\\Bold}[1]{\\mathbf{#1}}\\left(0,\\,0,\\,0,\\,0,\\,0,\\,0,\\,0,\\,0,\\,1,\\,1,\\,0,\\,0,\\,0,\\,0,\\,0,\\,0\\right)</script></html>"
      ],
      "text/latex": [
       "\\begin{math}\n",
       "\\newcommand{\\Bold}[1]{\\mathbf{#1}}\\left(0,\\,0,\\,0,\\,0,\\,0,\\,0,\\,0,\\,0,\\,1,\\,1,\\,0,\\,0,\\,0,\\,0,\\,0,\\,0\\right)\n",
       "\\end{math}"
      ],
      "text/plain": [
       "(0, 0, 0, 0, 0, 0, 0, 0, 1, 1, 0, 0, 0, 0, 0, 0)"
      ]
     },
     "metadata": {},
     "output_type": "display_data"
    }
   ],
   "source": [
    "e = vector(K_,N)\n",
    "# se introducen errores\n",
    "e[8] = 1\n",
    "e[9] = 1\n",
    "print(\"Vector de errores e\");\n",
    "show(e)"
   ]
  },
  {
   "cell_type": "markdown",
   "metadata": {},
   "source": [
    "4. Bob calcula el texto cifrado $\\textbf{c}' = \\textbf{c} + \\textbf{e}$"
   ]
  },
  {
   "cell_type": "code",
   "execution_count": 23,
   "metadata": {},
   "outputs": [
    {
     "name": "stdout",
     "output_type": "stream",
     "text": [
      "Vector codificado c'\n"
     ]
    },
    {
     "data": {
      "text/html": [
       "<html><script type=\"math/tex; mode=display\">\\newcommand{\\Bold}[1]{\\mathbf{#1}}\\left(0,\\,1,\\,1,\\,1,\\,0,\\,0,\\,1,\\,1,\\,1,\\,1,\\,1,\\,0,\\,1,\\,1,\\,1,\\,0\\right)</script></html>"
      ],
      "text/latex": [
       "\\begin{math}\n",
       "\\newcommand{\\Bold}[1]{\\mathbf{#1}}\\left(0,\\,1,\\,1,\\,1,\\,0,\\,0,\\,1,\\,1,\\,1,\\,1,\\,1,\\,0,\\,1,\\,1,\\,1,\\,0\\right)\n",
       "\\end{math}"
      ],
      "text/plain": [
       "(0, 1, 1, 1, 0, 0, 1, 1, 1, 1, 1, 0, 1, 1, 1, 0)"
      ]
     },
     "metadata": {},
     "output_type": "display_data"
    }
   ],
   "source": [
    "c_p = c + e\n",
    "print(\"Vector codificado c'\"); show(c_p)"
   ]
  },
  {
   "cell_type": "markdown",
   "metadata": {},
   "source": [
    "### Descifrado\n",
    "\n",
    "Proceso de descifrado:\n"
   ]
  },
  {
   "cell_type": "markdown",
   "metadata": {},
   "source": [
    "1. Alice calcula $\\hat{\\textbf{c}}=\\textbf{c}'P^{-1}$"
   ]
  },
  {
   "cell_type": "code",
   "execution_count": 24,
   "metadata": {
    "scrolled": true
   },
   "outputs": [
    {
     "data": {
      "text/html": [
       "<html><script type=\"math/tex; mode=display\">\\newcommand{\\Bold}[1]{\\mathbf{#1}}\\left(1,\\,1,\\,1,\\,1,\\,0,\\,1,\\,0,\\,1,\\,1,\\,0,\\,1,\\,0,\\,1,\\,1,\\,0,\\,1\\right)</script></html>"
      ],
      "text/latex": [
       "\\begin{math}\n",
       "\\newcommand{\\Bold}[1]{\\mathbf{#1}}\\left(1,\\,1,\\,1,\\,1,\\,0,\\,1,\\,0,\\,1,\\,1,\\,0,\\,1,\\,0,\\,1,\\,1,\\,0,\\,1\\right)\n",
       "\\end{math}"
      ],
      "text/plain": [
       "(1, 1, 1, 1, 0, 1, 0, 1, 1, 0, 1, 0, 1, 1, 0, 1)"
      ]
     },
     "metadata": {},
     "output_type": "display_data"
    }
   ],
   "source": [
    "c_h = c_p*(P.inverse()); show(c_h)"
   ]
  },
  {
   "cell_type": "markdown",
   "metadata": {},
   "source": [
    "2. Alice usa el algoritmo de Patterson para obtener $\\textbf{mSG}$ ya que la matriz $\\textbf{SG}$ es una matriz generadora de código Goppa y tanto $\\textbf{e}$ como $\\textbf{e}P^{-1}$ tienen el mismo peso, siendo este $\\textbf{t}$"
   ]
  },
  {
   "cell_type": "code",
   "execution_count": 25,
   "metadata": {},
   "outputs": [
    {
     "data": {
      "text/html": [
       "<html><script type=\"math/tex; mode=display\">\\newcommand{\\Bold}[1]{\\mathbf{#1}}\\left(1,\\,0,\\,1,\\,1,\\,0,\\,0,\\,0,\\,1,\\,1,\\,0,\\,1,\\,0,\\,1,\\,1,\\,0,\\,1\\right)</script></html>"
      ],
      "text/latex": [
       "\\begin{math}\n",
       "\\newcommand{\\Bold}[1]{\\mathbf{#1}}\\left(1,\\,0,\\,1,\\,1,\\,0,\\,0,\\,0,\\,1,\\,1,\\,0,\\,1,\\,0,\\,1,\\,1,\\,0,\\,1\\right)\n",
       "\\end{math}"
      ],
      "text/plain": [
       "(1, 0, 1, 1, 0, 0, 0, 1, 1, 0, 1, 0, 1, 1, 0, 1)"
      ]
     },
     "metadata": {},
     "output_type": "display_data"
    }
   ],
   "source": [
    "mSG = decodePatterson(c_h)\n",
    "show(mSG)"
   ]
  },
  {
   "cell_type": "markdown",
   "metadata": {},
   "source": [
    "3. Alice obtiene $\\textbf{m'} = \\textbf{mS}$ resolviendo el sistema de ecuaciones correspondiente"
   ]
  },
  {
   "cell_type": "code",
   "execution_count": 26,
   "metadata": {},
   "outputs": [],
   "source": [
    "mS = G.transpose()\\mSG"
   ]
  },
  {
   "cell_type": "markdown",
   "metadata": {},
   "source": [
    "4. Alice descifra el mensaje a partir de la matriz inversa de $\\textbf{S}$ y ya puede leer el mensaje original"
   ]
  },
  {
   "cell_type": "code",
   "execution_count": 27,
   "metadata": {
    "scrolled": true
   },
   "outputs": [
    {
     "data": {
      "text/html": [
       "<html><script type=\"math/tex; mode=display\">\\newcommand{\\Bold}[1]{\\mathbf{#1}}\\left(1,\\,0,\\,1,\\,0\\right)</script></html>"
      ],
      "text/latex": [
       "\\begin{math}\n",
       "\\newcommand{\\Bold}[1]{\\mathbf{#1}}\\left(1,\\,0,\\,1,\\,0\\right)\n",
       "\\end{math}"
      ],
      "text/plain": [
       "(1, 0, 1, 0)"
      ]
     },
     "metadata": {},
     "output_type": "display_data"
    }
   ],
   "source": [
    "m_recibido = mS * S.inverse()\n",
    "show(m_recibido)"
   ]
  },
  {
   "cell_type": "markdown",
   "metadata": {},
   "source": [
    "Comprobamos que es el mismo mensaje"
   ]
  },
  {
   "cell_type": "code",
   "execution_count": 28,
   "metadata": {},
   "outputs": [
    {
     "data": {
      "text/plain": [
       "True"
      ]
     },
     "execution_count": 28,
     "metadata": {},
     "output_type": "execute_result"
    }
   ],
   "source": [
    "m==m_recibido"
   ]
  }
 ],
 "metadata": {
  "kernelspec": {
   "display_name": "SageMath 9.4",
   "language": "sage",
   "name": "sagemath"
  },
  "language_info": {
   "codemirror_mode": {
    "name": "ipython",
    "version": 3
   },
   "file_extension": ".py",
   "mimetype": "text/x-python",
   "name": "python",
   "nbconvert_exporter": "python",
   "pygments_lexer": "ipython3",
   "version": "3.9.5"
  }
 },
 "nbformat": 4,
 "nbformat_minor": 4
}
