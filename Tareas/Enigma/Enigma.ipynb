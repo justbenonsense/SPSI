{
 "cells": [
  {
   "cell_type": "markdown",
   "metadata": {},
   "source": [
    "# Tareas SPSI\n",
    "\n",
    "Autores: Adrián Rodríguez Montero y Carlota Valdivia Manzano\n"
   ]
  },
  {
   "cell_type": "markdown",
   "metadata": {},
   "source": [
    "# Ejercicio 2"
   ]
  },
  {
   "cell_type": "markdown",
   "metadata": {},
   "source": [
    "## Máquina Enigma"
   ]
  },
  {
   "cell_type": "markdown",
   "metadata": {},
   "source": [
    "Implemente en Python la Máquina Enigma M4 de la Kriegsmarine y explique cómo es compatible con la M3 de la Wehrmacht."
   ]
  },
  {
   "cell_type": "markdown",
   "metadata": {},
   "source": [
    "### Reflectores"
   ]
  },
  {
   "cell_type": "markdown",
   "metadata": {},
   "source": [
    "Reflectores de la M4 y M3. Los reflectores B y C están para comprobar la compatibilidad de la M4 con la M3.\n",
    "Los reflectores así definidos nos permiten averiguar qué 2 letras están cableadas, por ejemplo para el reflector B Thin, la letra A y E están cableadas, la B y la N también, etc."
   ]
  },
  {
   "cell_type": "code",
   "execution_count": 1,
   "metadata": {},
   "outputs": [],
   "source": [
    "Reflectores = {\n",
    "    'B'        : 'YRUHQSLDPXNGOKMIEBFZCWVJAT',\n",
    "    'C'        : 'FVPJIAOYEDRZXWGCTKUQSBNMHL',\n",
    "    'B_thin'   : 'ENKQAUYWJICOPBLMDXZVFTHRGS',\n",
    "    'C_thin'   : 'RDOBJNTKVEHMLFCWZAXGYIPSUQ'\n",
    "}"
   ]
  },
  {
   "cell_type": "markdown",
   "metadata": {},
   "source": [
    "### Rotores"
   ]
  },
  {
   "cell_type": "markdown",
   "metadata": {},
   "source": [
    "* La **codificación** en cada uno de los rotores es la forma en la que se codifican las letras en la posición (ringstellung) A, ejemplo: para el rotor **I** la A se codifica con la letra E, la B con la K, etc.\n",
    "* La **rotación** es el valor que aparece en la ventana cuando se acciona el movimiento del rotor a la izquierda de este, es decir, el valor que aparece en la ventana cuando el rotor está en su posición de muesca. Mencionar que los rotores adicionales tienen 2 muescas, por tanto el rotor a la izquierda de estos avanza 2 veces más rápido."
   ]
  },
  {
   "cell_type": "code",
   "execution_count": 2,
   "metadata": {},
   "outputs": [],
   "source": [
    "Rotores = {\n",
    "    'I' : {\n",
    "        'codificacion':'EKMFLGDQVZNTOWYHXUSPAIBRCJ',\n",
    "        'rotacion'    :'Q'\n",
    "    },\n",
    "    'II' : {\n",
    "        'codificacion':'AJDKSIRUXBLHWTMCQGZNPYFVOE',\n",
    "        'rotacion'    :'E'\n",
    "    },\n",
    "    'III' : {\n",
    "        'codificacion':'BDFHJLCPRTXVZNYEIWGAKMUSQO',\n",
    "        'rotacion'    :'V'\n",
    "    },\n",
    "    'IV' : {\n",
    "        'codificacion':'ESOVPZJAYQUIRHXLNFTGKDCMWB',\n",
    "        'rotacion'    :'J'\n",
    "    },\n",
    "    'V' : {\n",
    "        'codificacion':'VZBRGITYUPSDNHLXAWMJQOFECK',\n",
    "        'rotacion'    :'Z'\n",
    "    },\n",
    "    'VI' : {\n",
    "        'codificacion':'JPGVOUMFYQBENHZRDKASXLICTW',\n",
    "        'rotacion'    :'ZM'\n",
    "    },\n",
    "    'VII' : {\n",
    "        'codificacion':'NZJHGRCXMYSWBOUFAIVLPEKQDT',\n",
    "        'rotacion'    :'ZM'\n",
    "    },\n",
    "    'VIII' : {\n",
    "        'codificacion':'FKQHTLXOCBJSPDZRAMEWNIUYGV',\n",
    "        'rotacion'    :'ZM'\n",
    "    }\n",
    "}"
   ]
  },
  {
   "cell_type": "markdown",
   "metadata": {},
   "source": [
    "### Rotores Griegos"
   ]
  },
  {
   "cell_type": "markdown",
   "metadata": {},
   "source": [
    "Los **rotores griegos** son más finos que los rotores originales y adicionales, y no giran."
   ]
  },
  {
   "cell_type": "code",
   "execution_count": 3,
   "metadata": {},
   "outputs": [],
   "source": [
    "Rotores_griegos = {\n",
    "    'Beta' : {\n",
    "        'codificacion':'LEYJVCNIXWPBQMDRTAKZGFUHOS',\n",
    "        'rotacion'    : ''\n",
    "    },\n",
    "    'Gamma' : {\n",
    "        'codificacion':'FSOKANUERHMBTIYCWLQPZXVGJD',\n",
    "        'rotacion'    : ''\n",
    "    }\n",
    "}"
   ]
  },
  {
   "cell_type": "markdown",
   "metadata": {},
   "source": [
    "### Contactos"
   ]
  },
  {
   "cell_type": "markdown",
   "metadata": {},
   "source": [
    "Los **contactos** los utilizamos en la clase Reflector para saber qué parejas de letras están cableadas. Por otra parte, también lo empleamos en la clase Rotor para conocer qué letra se encuentra en la ventana de cada rotor y la codificación del rotor."
   ]
  },
  {
   "cell_type": "code",
   "execution_count": 4,
   "metadata": {},
   "outputs": [],
   "source": [
    "Contactos = 'ABCDEFGHIJKLMNOPQRSTUVWXYZ'"
   ]
  },
  {
   "cell_type": "markdown",
   "metadata": {},
   "source": [
    "### Clase Reflector"
   ]
  },
  {
   "cell_type": "code",
   "execution_count": 5,
   "metadata": {},
   "outputs": [],
   "source": [
    "class Reflector:\n",
    "    def __init__(self, tipo):\n",
    "        \"\"\"\n",
    "            'tipo' es el tipo de reflector\n",
    "        \"\"\"\n",
    "        self.reflector = Reflectores[tipo]   \n",
    "        \n",
    "    def get(self, letra):\n",
    "        \"\"\"\n",
    "            'get' proporciona la letra asociada a 'letra' mediante el cableado en el reflector de tipo 'tipo'\n",
    "        \"\"\" \n",
    "        indice = Contactos.find(letra)      \n",
    "        return self.reflector[indice]"
   ]
  },
  {
   "cell_type": "markdown",
   "metadata": {},
   "source": [
    "### Clase Plugboard"
   ]
  },
  {
   "cell_type": "code",
   "execution_count": 6,
   "metadata": {},
   "outputs": [],
   "source": [
    "class Plugboard:\n",
    "    def __init__(self, conexiones):\n",
    "        \"\"\"\n",
    "            'conexiones' son los 13 cables de interconexión \n",
    "            'self.parejas' contendrá el tablero de conexiones\n",
    "        \"\"\"\n",
    "        self.parejas = {}\n",
    "        \n",
    "        for letra in Contactos:\n",
    "            self.parejas[letra] = letra\n",
    "        \n",
    "        for par in conexiones:\n",
    "            self.parejas.update({par[0]:par[1]})\n",
    "            self.parejas.update({par[1]:par[0]})\n",
    "        \n",
    "    def get(self, letra):\n",
    "        \"\"\"\n",
    "            'get' proporciona la letra que está cableada con 'letra' en el tablero de conexiones\n",
    "        \"\"\" \n",
    "        return self.parejas[letra]"
   ]
  },
  {
   "cell_type": "markdown",
   "metadata": {},
   "source": [
    "### Clase Rotor"
   ]
  },
  {
   "cell_type": "code",
   "execution_count": 7,
   "metadata": {},
   "outputs": [],
   "source": [
    "class Rotor:\n",
    "    def __init__(self, rotor):\n",
    "        \"\"\"\n",
    "            Configuración del rotor\n",
    "        \"\"\"\n",
    "        self.contactos = Contactos\n",
    "        self.codificacion = rotor['codificacion']\n",
    "        self.rotacion = rotor['rotacion']\n",
    "        \n",
    "           \n",
    "    def set_grundstellung(self, letra):\n",
    "        \"\"\"\n",
    "            A partir de 'letra' se obtiene su índice y se ajusta el grundstellung del rotor\n",
    "        \"\"\" \n",
    "        indice = Contactos.find(letra)\n",
    "        self.contactos = self.contactos[indice:] + self.contactos[:indice]\n",
    "        self.codificacion = self.codificacion[indice:] + self.codificacion[:indice]\n",
    "        \n",
    "    \n",
    "    def set_ringstellung(self, letra):\n",
    "        \"\"\"\n",
    "            A partir de 'letra' se obtiene su índice y se ajusta el anillo del rotor o ringstellung\n",
    "        \"\"\" \n",
    "        \n",
    "        \"\"\"\n",
    "            Ejemplo, rotor I, ringstellung B:\n",
    "            indice = 1, la letra B tiene posición 1 en Contactos\n",
    "            nue_indice = 0 - 1 = -1, 0 es la posición de A en Contactos, obtenemos el ínidice -1 = 25\n",
    "            ant_letra = J, la letra Z se codifca como J\n",
    "            num = 9 + 1 = 10, 9 es la posición de J en Contactos\n",
    "            nue_letra = K, posición 10 en Contactos\n",
    "            y así con todas las letras y las vamos concatenando en aux\n",
    "        \"\"\"\n",
    "        \n",
    "        # Obtenemos el índice de la letra 'letra'\n",
    "        indice = Contactos.find(letra)\n",
    "        aux = ''\n",
    "            \n",
    "        # Recorremos el alfabeto\n",
    "        for l in Contactos:\n",
    "            # Obtenemos el nuevo índice a partir de la posición de la letra y del índice previo\n",
    "            nue_indice = Contactos.find(l) - indice\n",
    "            # Obtenemos la letra codificada con el nuevo índice\n",
    "            ant_letra  = self.codificacion[nue_indice]\n",
    "            # Obtenemos la posición de la nueva letra en el alfabeto y sumamos el índice\n",
    "            num = Contactos.find(ant_letra) + indice\n",
    "            # Obtenemos la letra que corresponde con la nueva codificación\n",
    "            nue_letra = Contactos[num % 26]\n",
    "            \n",
    "            aux = aux + nue_letra\n",
    "        \n",
    "        # Así hemos cambiado la posición del cableado interno del rotor\n",
    "        # Actualizamos la codificación\n",
    "        self.codificacion = aux[:]\n",
    "        return self.codificacion\n",
    "     \n",
    "    \n",
    "    def rotar(self):\n",
    "        \"\"\"\n",
    "            Avance de un paso del rotor con la pulsación de una tecla\n",
    "        \"\"\"\n",
    "        self.contactos = self.contactos[1:] + self.contactos[:1]\n",
    "        self.codificacion = self.codificacion[1:] + self.codificacion[:1]\n",
    "        return self.codificacion"
   ]
  },
  {
   "cell_type": "markdown",
   "metadata": {},
   "source": [
    "### Clase Enigma"
   ]
  },
  {
   "cell_type": "code",
   "execution_count": 8,
   "metadata": {},
   "outputs": [],
   "source": [
    "class Enigma:\n",
    "    def __init__(self, tipo_reflector, conexiones, tipo_rotores, grundstellung, ringstellung):      \n",
    "        \n",
    "        # Comprobamos que los rotores introducidos son 4 \n",
    "        # y que la configuración del grundstellung y del ringstellung es de 4 letras\n",
    "        \n",
    "        if len(tipo_rotores) != 4:\n",
    "            print(\"ERROR, no has introducido 4 rotores\")\n",
    "            \n",
    "        if len(grundstellung) != 4:\n",
    "            print(\"ERROR, grundstellung incompleto\")\n",
    "        \n",
    "        if len(ringstellung) != 4:\n",
    "            print(\"ERROR, ringstellung incompleto\")\n",
    "        \n",
    "        \n",
    "        \"\"\"\n",
    "            Configuración de la Máquina Enigma M4\n",
    "        \"\"\"\n",
    "        # Reflector\n",
    "        self.reflector = Reflector(tipo_reflector)\n",
    "        # Tablero de Conexiones\n",
    "        self.plugboard = Plugboard(conexiones)\n",
    "        # Rotores\n",
    "        self.rotores = []\n",
    "        \n",
    "        # Configuración de los rotores\n",
    "        for i in range(len(tipo_rotores)):\n",
    "            r = Rotor(tipo_rotores[i])\n",
    "            # Ajustamos el ringstellung\n",
    "            r.set_ringstellung(ringstellung[i])\n",
    "            # Ajustamos el grundstellung\n",
    "            r.set_grundstellung(grundstellung[i])\n",
    "            self.rotores.append(r)\n",
    "            \n",
    "    \n",
    "    def cifrar(self, mensaje):     \n",
    "        \"\"\"\n",
    "            Cifra el mensaje con la configuración de la máquina M4 establecida previamente\n",
    "        \"\"\"\n",
    "        \n",
    "        mensaje_cifrado = '' \n",
    "        \n",
    "        for letra in mensaje:\n",
    "            if letra == ' ':\n",
    "                # Añadimos un espacio en blanco\n",
    "                mensaje_cifrado = mensaje_cifrado + ' '\n",
    "            else:\n",
    "                # ROTACION\n",
    "                \n",
    "                # Obtenemos las letras de la ventana del rotor 1 y 2\n",
    "                tope_rot_1 = self.rotores[3].contactos[0]\n",
    "                tope_rot_2 = self.rotores[2].contactos[0]\n",
    "                \n",
    "                # Rotamos el primer rotor\n",
    "                self.rotores[3].rotar()\n",
    "                \n",
    "                # Comprobamos si gira el segundo rotor\n",
    "                if tope_rot_1 in self.rotores[3].rotacion:\n",
    "                    self.rotores[2].rotar()\n",
    "                else: # Anomalía del segundo rotor\n",
    "                    if tope_rot_2 in self.rotores[2].rotacion:\n",
    "                        self.rotores[2].rotar()\n",
    "                    \n",
    "                # Comprobamos si gira el tercer rotor    \n",
    "                if tope_rot_2 in self.rotores[2].rotacion:    \n",
    "                    self.rotores[1].rotar()\n",
    "                    \n",
    "                    \n",
    "                    \n",
    "                    \n",
    "                # CIFRADO\n",
    "                \n",
    "                # Obtenemos la letra tras pasar por el Plugboard\n",
    "                letra_ida = self.plugboard.get(letra)\n",
    "                # Obtenemos el índice de la letra\n",
    "                indice_ida = Contactos.find(letra_ida)\n",
    "\n",
    "                # Pasamos por los 4 rotores\n",
    "                for rotor in reversed(self.rotores):\n",
    "                    letra_ida = rotor.codificacion[indice_ida]\n",
    "                    indice_ida = rotor.contactos.find(letra_ida)\n",
    "\n",
    "                # Llegamos al reflector\n",
    "                # Obtenemos la letra tras pasar por el reflector\n",
    "                letra_vuelta = self.reflector.get(Contactos[indice_ida]) \n",
    "                # Obtenemos el indice\n",
    "                indice_vuelta = Contactos.find(letra_vuelta)\n",
    "                \n",
    "                # Realizamos el camino inverso\n",
    "                # Volvemos a pasar por los rotores\n",
    "                for rotor in self.rotores:\n",
    "                    letra_vuelta = rotor.contactos[indice_vuelta]\n",
    "                    indice_vuelta = rotor.codificacion.find(letra_vuelta)\n",
    "\n",
    "                # Pasamos por el Plugboard\n",
    "                # Obtenemos la letra cifrada\n",
    "                letra_cifrada = self.plugboard.get(Contactos[indice_vuelta])\n",
    "                \n",
    "                # Añadimos la letra cifrada al mensaje\n",
    "                mensaje_cifrado = mensaje_cifrado + letra_cifrada\n",
    "                \n",
    "                \n",
    "        return mensaje_cifrado\n",
    "            \n",
    "            \n",
    "    def descifrar(self, mensaje):\n",
    "        \"\"\"\n",
    "            Desciframos el mensaje cuando aparezcan los primeros y últimos dos grupos para advertir de fallos\n",
    "            de transmisión\n",
    "        \"\"\"\n",
    "        # Comprobamos si coinciden los primeros y últimos dos grupos para ver si hay fallo en la transmisión\n",
    "        if mensaje[:9] == mensaje[len(mensaje)-9:]:\n",
    "            # Restamos los primeros y últimos dos grupos, que coinciden para advertir de fallos de transmisión\n",
    "            mensaje = mensaje[10:len(mensaje)-10]\n",
    "        \n",
    "            return self.cifrar(mensaje)\n",
    "        else:\n",
    "            print('ERROR, mensaje con fallo en la transmisión')"
   ]
  },
  {
   "cell_type": "markdown",
   "metadata": {},
   "source": [
    "### Ejemplo de uso de la Máquina Enigma M4"
   ]
  },
  {
   "cell_type": "markdown",
   "metadata": {},
   "source": [
    "Ejemplo número 2 de la página: https://wildunix.es/el-modelo-m4-de-la-maquina-enigma/\n",
    "\n",
    "Definimos el reflector, los 4 rotores, el ringstellung, el grundstellung, y las conexiones del tablero de conexiones (Plugboard)"
   ]
  },
  {
   "cell_type": "markdown",
   "metadata": {},
   "source": [
    "#### Reflector\n",
    "Puede ser B_thin o C_thin"
   ]
  },
  {
   "cell_type": "code",
   "execution_count": 9,
   "metadata": {},
   "outputs": [],
   "source": [
    "reflector = 'B_thin'"
   ]
  },
  {
   "cell_type": "markdown",
   "metadata": {},
   "source": [
    "#### Rotores\n",
    "Rotores, ordenados del cuarto rotor al primero, de izquierda a derecha, el cuarto rotor debe ser un rotor griego Beta o Gamma y los otros 3 cualquiera de los rotores originales o adicionales del I al VIII"
   ]
  },
  {
   "cell_type": "code",
   "execution_count": 10,
   "metadata": {},
   "outputs": [],
   "source": [
    "rotores = [Rotores_griegos['Beta'], Rotores['II'], Rotores['IV'], Rotores['I']]"
   ]
  },
  {
   "cell_type": "markdown",
   "metadata": {},
   "source": [
    "#### Ringstellung\n",
    "Compuesto por 4 letras de A-Z, una para cada rotor, la letra más a la izquierda corresponde con el rotor griego y la última con el primer rotor"
   ]
  },
  {
   "cell_type": "code",
   "execution_count": 11,
   "metadata": {},
   "outputs": [],
   "source": [
    "ringstellung = 'AAAV'"
   ]
  },
  {
   "cell_type": "markdown",
   "metadata": {},
   "source": [
    "#### Grundstellung\n",
    "Compuesto también por 4 letras una para cada rotor al igual que el ringstellung"
   ]
  },
  {
   "cell_type": "code",
   "execution_count": 12,
   "metadata": {},
   "outputs": [],
   "source": [
    "grundstellung = 'VJNA'"
   ]
  },
  {
   "cell_type": "markdown",
   "metadata": {},
   "source": [
    "#### Plugboard\n",
    "Establecemos los 13 cables de interconexión"
   ]
  },
  {
   "cell_type": "code",
   "execution_count": 13,
   "metadata": {},
   "outputs": [],
   "source": [
    "conexiones = [('AT'), ('BL'), ('DF'), ('GJ'), ('HM'), ('NW'), ('OP'), ('QY'), ('RZ'), ('VX')]"
   ]
  },
  {
   "cell_type": "markdown",
   "metadata": {},
   "source": [
    "#### ENGIMA"
   ]
  },
  {
   "cell_type": "code",
   "execution_count": 14,
   "metadata": {},
   "outputs": [],
   "source": [
    "ejemplo_M4 = Enigma(reflector, conexiones, rotores, grundstellung, ringstellung)"
   ]
  },
  {
   "cell_type": "markdown",
   "metadata": {},
   "source": [
    "Si necesitamos cifrar el mensaje empleamos el método cifrar al cual le pasamos como parámetro el mensaje como un string, en caso de querer descifrar el mensaje si no hemos despojado los primeros y últimos 2 grupos utilizamos descifrar, en caso de haberlos despojado empleamos cifrar. \n",
    "Si necesitamos procesar previamente un grupo para establecer el grundstellung empleamos cifrar y volveríamos a configurar enigma con el nuevo grundstellung.\n",
    "\n",
    "Mensaje:"
   ]
  },
  {
   "cell_type": "code",
   "execution_count": 15,
   "metadata": {},
   "outputs": [],
   "source": [
    "mensaje1 = 'FCLC QRKN NCZW VUSX PNYM INHZ XMQX SFWX WLKJ AHSH NMCO CCAK UQPM KCSM HKSE INJU SBLK IOSX CKUB HMLL XCSJ USRR DVKO HULX WCCB GVLI YXEO AHXR HKKF VDRE WEZL XOBA FGYU JQUK GRTV UKAM EURB VEKS UHHV OYHA BCJW MAKL FKLM YFVN RIZR VVRT KOFD ANJM OLBG FFLE OPRG TFLV RHOW OPBE KVWM UQFM PWPA RMFH AGKX IIBG FCLC QRKN'"
   ]
  },
  {
   "cell_type": "markdown",
   "metadata": {},
   "source": [
    "Desciframos el mensaje"
   ]
  },
  {
   "cell_type": "code",
   "execution_count": 16,
   "metadata": {},
   "outputs": [
    {
     "data": {
      "text/plain": [
       "'VONV ONJL OOKS JHFF TTTE INSE INSD REIZ WOYY QNNS NEUN INHA LTXX BEIA NGRI FFUN TERW ASSE RGED RUEC KTYW ABOS XLET ZTER GEGN ERST ANDN ULAC HTDR EINU LUHR MARQ UANT ONJO TANE UNAC HTSE YHSD REIY ZWOZ WONU LGRA DYAC HTSM YSTO SSEN ACHX EKNS VIER MBFA ELLT YNNN NNNO OOVI ERYS ICHT EINS NULL'"
      ]
     },
     "execution_count": 16,
     "metadata": {},
     "output_type": "execute_result"
    }
   ],
   "source": [
    "mensaje_descifrado1 = ejemplo_M4.descifrar(mensaje1)\n",
    "mensaje_descifrado1"
   ]
  },
  {
   "cell_type": "markdown",
   "metadata": {},
   "source": [
    "Comprobamos si el mensaje descifrado es correcto"
   ]
  },
  {
   "cell_type": "code",
   "execution_count": 17,
   "metadata": {},
   "outputs": [
    {
     "name": "stdout",
     "output_type": "stream",
     "text": [
      "Comprobamos si el mensaje descifrado es correcto: True\n"
     ]
    }
   ],
   "source": [
    "resultado_esperado1 = 'VONV ONJL OOKS JHFF TTTE INSE INSD REIZ WOYY QNNS NEUN INHA LTXX BEIA NGRI FFUN TERW ASSE RGED RUEC KTYW ABOS XLET ZTER GEGN ERST ANDN ULAC HTDR EINU LUHR MARQ UANT ONJO TANE UNAC HTSE YHSD REIY ZWOZ WONU LGRA DYAC HTSM YSTO SSEN ACHX EKNS VIER MBFA ELLT YNNN NNNO OOVI ERYS ICHT EINS NULL'\n",
    "print('Comprobamos si el mensaje descifrado es correcto:', resultado_esperado1 == mensaje_descifrado1)"
   ]
  },
  {
   "cell_type": "code",
   "execution_count": null,
   "metadata": {},
   "outputs": [],
   "source": []
  },
  {
   "cell_type": "markdown",
   "metadata": {},
   "source": [
    "## Compatibilidad de la M4 con la M3"
   ]
  },
  {
   "cell_type": "markdown",
   "metadata": {},
   "source": [
    "En primer lugar sabemos que los reflectores delgados de la M4 no coinciden en el cableado interno con sus homólogos de la M3, pero existe un modo de compatibilidad que vamos a explicar. Una máquina M4  puede cifrar y descifrar cualquier mensaje de la misma forma que lo haría si fuera una M3.\n",
    "Los 3 primeros rotores de la M4 equivalen a los 3 rotores de la M3, los cuales pueden ser cualquiera de los rotores originales o adiciones. Ahora vamos a ver como simular el reflector B y C a partir de los reflectores delgados y los rotores griegos o cuartos rotores de la M4.\n",
    "\n",
    "#### Reflector B: \n",
    "M4 configurada con el reflector B Thin y Rotor griego Beta con grundstellung A y Ringstellung en posición A, simula la M3 con reflector B. "
   ]
  },
  {
   "cell_type": "code",
   "execution_count": 18,
   "metadata": {},
   "outputs": [
    {
     "name": "stdout",
     "output_type": "stream",
     "text": [
      "Reflector B: YRUHQSLDPXNGOKMIEBFZCWVJAT\n",
      "Comprobamos que coinciden:  True\n"
     ]
    }
   ],
   "source": [
    "comprobacion = ''\n",
    "\n",
    "for i in range(len(Contactos)):\n",
    "    # Letra obtenida tras pasar por el rotor Beta a la ida\n",
    "    letra_ida = Rotores_griegos['Beta']['codificacion'][i]\n",
    "    # Indice de la letra\n",
    "    indice_ida = Contactos.find(letra_ida)\n",
    "    # Letra tras pasar por el reflector\n",
    "    letra_ref = Reflectores['B_thin'][indice_ida]\n",
    "    # Indice de la letra tras pasar por el rotor Beta de vuelta\n",
    "    indice_vuelta = Rotores_griegos['Beta']['codificacion'].find(letra_ref)\n",
    "    # Añadimos la letra obtenida\n",
    "    comprobacion = comprobacion + Contactos[indice_vuelta]\n",
    "    \n",
    "print('Reflector B:', Reflectores['B'])    \n",
    "print('Comprobamos que coinciden: ', Reflectores['B'] == comprobacion)"
   ]
  },
  {
   "cell_type": "markdown",
   "metadata": {},
   "source": [
    "#### Reflector C:\n",
    "M4 configurada con el reflector C Thin y Rotor griego Gamma en posición A y Ringstellung en posición A, simula la M3 con reflector C. "
   ]
  },
  {
   "cell_type": "code",
   "execution_count": 19,
   "metadata": {},
   "outputs": [
    {
     "name": "stdout",
     "output_type": "stream",
     "text": [
      "Reflector C:  FVPJIAOYEDRZXWGCTKUQSBNMHL\n",
      "Comprobamos que coinciden:  True\n"
     ]
    }
   ],
   "source": [
    "comprobacion = ''\n",
    "\n",
    "for i in range(len(Contactos)):\n",
    "    # Letra obtenida tras pasar por el rotor Gamma a la ida\n",
    "    letra_ida = Rotores_griegos['Gamma']['codificacion'][i]\n",
    "    # Indice de la letra\n",
    "    indice_ida = Contactos.find(letra_ida)\n",
    "    # Letra tras pasar por el reflector\n",
    "    letra_ref = Reflectores['C_thin'][indice_ida]\n",
    "    # Indice de la letra tras pasar por el rotor Beta de vuelta\n",
    "    indice_vuelta = Rotores_griegos['Gamma']['codificacion'].find(letra_ref)\n",
    "    # Añadimos la letra obtenida\n",
    "    comprobacion = comprobacion + Contactos[indice_vuelta]\n",
    "    \n",
    "print('Reflector C: ', Reflectores['C'])    \n",
    "print('Comprobamos que coinciden: ', Reflectores['C'] == comprobacion)"
   ]
  },
  {
   "cell_type": "markdown",
   "metadata": {},
   "source": [
    "# Ejercicio 3"
   ]
  },
  {
   "cell_type": "markdown",
   "metadata": {},
   "source": [
    "Lo siguiente: \n",
    "\n",
    "  DUHF TETO LANO TCTO UARB BFPM HPHG CZXT DYGA HGUF XGEW KBLK GJWL QXXT  \n",
    "  GPJJ AVTO CKZF SLPP QIHZ FXOE BWII EKFZ LCLO AQJU LJOY HSSM BBGW HZAN  \n",
    "  VOII PYRB RTDJ QDJJ OQKC XWDN BBTY VXLY TAPG VEAT XSON PNYN QFUD BBHH  \n",
    "  VWEP YEYD OHNL XKZD NWRH DUWU JUMW WVII WZXI VIUQ DRHY MNCY EFUA PNHO  \n",
    "  TKHK GDNP SAKN UAGH JZSM JBMH VTRE QEDG XHLZ WIFU SKDQ VELN MIMI THBH  \n",
    "  DBWV HDFY HJOQ IHOR TDJD BWXE MEAY XGYQ XOHF DMYU XXNO JAZR SGHP LWML  \n",
    "  RECW WUTL RTTV LBHY OORG LGOW UXNX HMHY FAAC QEKT HSJW DUHF TETO\n",
    "\n",
    "es un texto cifrado original capturado en una transmisión durante la Segunda Guerra Mundial y descifrado con la siguiente configuración de la máquina Enigma:\n",
    "\n",
    "* Enigma: M4\n",
    "* Umkehrwalze (reflector): C\n",
    "* Zusatzwalze (rueda griega/Greek wheel): Beta\n",
    "* Walzenlage (orden de las ruedas): 568\n",
    "* Ringstellung (ajuste de las ruedas): EPEL\n",
    "* Grundstellung (posición de partida): NAEM\n",
    "* Steckern (zócalo de clavijas): AE BF CM DQ HU JN LX PR SZ VW\n",
    "* Clave del mensaje: se determinará configurando la máquina con la posición inical NAEM y procesando QEOB.\n",
    "\n",
    "\n",
    "Muestre como su implementación de la máquina Enigma pone en claro el anterior mensaje produciendo un texto legible en alemán. La manipulación de la implementación presentada debe ser obligatoriamente capaz de reproducir un diálogo configurador y operativo como el de la implementación en Haskell ofrecida en el repositorio de GitHub @ringstellung."
   ]
  },
  {
   "cell_type": "code",
   "execution_count": 20,
   "metadata": {},
   "outputs": [],
   "source": [
    "# Configuración de la M4\n",
    "# Reflector\n",
    "reflector_ejer3 = 'C_thin'\n",
    "# Rotores\n",
    "rotores_ejer3 = [Rotores_griegos['Beta'], Rotores['V'], Rotores['VI'], Rotores['VIII']]\n",
    "# Ringstellung\n",
    "ringstellung_ejer3 = 'EPEL'\n",
    "# Grundstellung\n",
    "grundstellung_ejer3 = 'NAEM'\n",
    "# Steckern\n",
    "conexiones_ejer3 = [('AE'), ('BF'), ('CM'), ('DQ'), ('HU'), ('JN'), ('LX'), ('PR'), ('SZ'), ('VW')]\n",
    "\n",
    "# M4\n",
    "M4_ejer3 = Enigma(reflector_ejer3, conexiones_ejer3, rotores_ejer3, grundstellung_ejer3, ringstellung_ejer3)"
   ]
  },
  {
   "cell_type": "code",
   "execution_count": 21,
   "metadata": {},
   "outputs": [
    {
     "data": {
      "text/plain": [
       "'KRKR ALLE XXFO LGEN DESI STSO FORT BEKA NNTZ UGEB ENXX ICHH ABEF OLGE LNBE BEFE HLER HALT ENXX JANS TERL EDES BISH ERIG XNRE ICHS MARS CHAL LSJG OERI NGJS ETZT DERF UEHR ERSI EYHV RRGR ZSSA DMIR ALYA LSSE INEN NACH FOLG EREI NXSC HRIF TLSC HEVO LLMA CHTU NTER WEGS XABS OFOR TSOL LENS IESA EMTL ICHE MASS NAHM ENVE RFUE GENY DIES ICHA USDE RGEG ENWA ERTI GENL AGEE RGEB ENXG EZXR EICH SLEI TEIK KTUL PEKK JBOR MANN JXXO BXDX MMMD URNH FKST XKOM XADM XUUU BOOI EXKP'"
      ]
     },
     "execution_count": 21,
     "metadata": {},
     "output_type": "execute_result"
    }
   ],
   "source": [
    "# En primer lugar procesamos 'QEOB'\n",
    "nuevo_grundstellung_ejer3 = M4_ejer3.cifrar('QEOB')\n",
    "# Mensaje\n",
    "mensaje_ejer3 = 'DUHF TETO LANO TCTO UARB BFPM HPHG CZXT DYGA HGUF XGEW KBLK GJWL QXXT GPJJ AVTO CKZF SLPP QIHZ FXOE BWII EKFZ LCLO AQJU LJOY HSSM BBGW HZAN VOII PYRB RTDJ QDJJ OQKC XWDN BBTY VXLY TAPG VEAT XSON PNYN QFUD BBHH VWEP YEYD OHNL XKZD NWRH DUWU JUMW WVII WZXI VIUQ DRHY MNCY EFUA PNHO TKHK GDNP SAKN UAGH JZSM JBMH VTRE QEDG XHLZ WIFU SKDQ VELN MIMI THBH DBWV HDFY HJOQ IHOR TDJD BWXE MEAY XGYQ XOHF DMYU XXNO JAZR SGHP LWML RECW WUTL RTTV LBHY OORG LGOW UXNX HMHY FAAC QEKT HSJW DUHF TETO'\n",
    "# Configuramos enigma con el nuevo grundstellung\n",
    "M4_ejer3 = Enigma(reflector_ejer3, conexiones_ejer3, rotores_ejer3, nuevo_grundstellung_ejer3, ringstellung_ejer3)\n",
    "# Desciframos el mensaje\n",
    "mensaje_descifrado_ejer3 = M4_ejer3.descifrar(mensaje_ejer3)\n",
    "mensaje_descifrado_ejer3"
   ]
  },
  {
   "cell_type": "code",
   "execution_count": 22,
   "metadata": {},
   "outputs": [
    {
     "name": "stdout",
     "output_type": "stream",
     "text": [
      "Comprobamos si el mensaje descifrado es correcto: True\n"
     ]
    }
   ],
   "source": [
    "# Comprobamos si el mensaje descifrado es correcto\n",
    "resultado_ejer3 = 'KRKR ALLE XXFO LGEN DESI STSO FORT BEKA NNTZ UGEB ENXX ICHH ABEF OLGE LNBE BEFE HLER HALT ENXX JANS TERL EDES BISH ERIG XNRE ICHS MARS CHAL LSJG OERI NGJS ETZT DERF UEHR ERSI EYHV RRGR ZSSA DMIR ALYA LSSE INEN NACH FOLG EREI NXSC HRIF TLSC HEVO LLMA CHTU NTER WEGS XABS OFOR TSOL LENS IESA EMTL ICHE MASS NAHM ENVE RFUE GENY DIES ICHA USDE RGEG ENWA ERTI GENL AGEE RGEB ENXG EZXR EICH SLEI TEIK KTUL PEKK JBOR MANN JXXO BXDX MMMD URNH FKST XKOM XADM XUUU BOOI EXKP'\n",
    "print('Comprobamos si el mensaje descifrado es correcto:', resultado_ejer3 == mensaje_descifrado_ejer3)"
   ]
  },
  {
   "cell_type": "code",
   "execution_count": null,
   "metadata": {},
   "outputs": [],
   "source": []
  },
  {
   "cell_type": "markdown",
   "metadata": {},
   "source": [
    "# Ejercicio 4"
   ]
  },
  {
   "cell_type": "markdown",
   "metadata": {},
   "source": [
    "Al existir durante la guerra, tanto en el mar como en tierra, un equipo interpuesto entre el emisor de mensajes codificados con Enigma y el destinatario, existía un problema obvio de confidencialidad. Diseñe, y ponga un ejemplo de, un protocolo de uso de Enigma que haga que el receptor sepa a quién de su unidad debe dirigir el mensaje recibido, que no sea capaz de leer su contenido y que sin embargo el oficial receptor sí pueda hacerlo por sus propios medios."
   ]
  },
  {
   "cell_type": "markdown",
   "metadata": {},
   "source": [
    "#### Resolución"
   ]
  },
  {
   "cell_type": "markdown",
   "metadata": {},
   "source": [
    "Supongamos que Adrián es el oficial de tierra de alto mando y codificará un mensaje con su máquina M3. Adrián trata de enviar un mensaje de alto secreto a la capitana de submarino Carlota que posee una M4. El oficial de tierra pretende que el mensaje solo sea comprendido por la capitana. En primera instancia Adrián cifra el mensaje, posteriormente el operador vuelve a cifrar el mensaje y lo envía. El receptor en el submarino lo recibe, lo descifra y no entiende nada, por lo que lo da a su capitana para que lo descifre.\n",
    "Procedemos a escenificar el caso."
   ]
  },
  {
   "cell_type": "markdown",
   "metadata": {},
   "source": [
    "El oficial de tierra quiere mandar un mensaje secreto a la capitana Carlota con su máquina M3, el mensaje es el siguiente:\n",
    "\n",
    "**PELIGRO AVANZAN POR EL NORTE RETIRADA**"
   ]
  },
  {
   "cell_type": "code",
   "execution_count": 23,
   "metadata": {},
   "outputs": [],
   "source": [
    "mensaje_secreto = 'PELI GROA VANZ ANPO RELN ORTE RETI RADA' "
   ]
  },
  {
   "cell_type": "markdown",
   "metadata": {},
   "source": [
    "El oficial de tierra cifra el mensaje con unas claves secretas, las cuales pertenecen a la capitana Carlota, ya que los oficiales y capitanes poseían las hojas de claves de cada mes. El oficial añade al principio a quién dirige el mensaje."
   ]
  },
  {
   "cell_type": "code",
   "execution_count": 24,
   "metadata": {},
   "outputs": [],
   "source": [
    "# LO CIFRA EL OFICIAL ADRIÁN\n",
    "\n",
    "# Configuración de la M3 a partir de la M4\n",
    "# Reflector\n",
    "reflector = 'C_thin'\n",
    "# Rotores\n",
    "rotores = [Rotores_griegos['Gamma'], Rotores['V'], Rotores['VI'], Rotores['VIII']]\n",
    "# Ringstellung\n",
    "ringstellung = 'ALKF'\n",
    "# Grundstellung\n",
    "grundstellung = 'AOPF'\n",
    "# Steckern\n",
    "conexiones = [('AE'), ('BF'), ('CM'), ('DQ'), ('HU'), ('JN'), ('LX'), ('PR'), ('SZ'), ('VW')]\n",
    "\n",
    "# M3\n",
    "M3 = Enigma(reflector, conexiones, rotores, grundstellung, ringstellung)\n",
    "\n",
    "# Ciframos el mensaje secreto:\n",
    "mensaje_cifrado_A = M3.cifrar(mensaje_secreto)\n",
    "# El oficial añade el destinatario\n",
    "mensaje_cifrado_A = 'PARALACAPITANACVM ' + mensaje_cifrado_A "
   ]
  },
  {
   "cell_type": "markdown",
   "metadata": {},
   "source": [
    "Mensaje cifrado por el oficial:"
   ]
  },
  {
   "cell_type": "code",
   "execution_count": 25,
   "metadata": {},
   "outputs": [
    {
     "data": {
      "text/plain": [
       "'PARALACAPITANACVM UNGT PCHZ XDFY DWKY LWNY EMIQ PLNN KGSD'"
      ]
     },
     "execution_count": 25,
     "metadata": {},
     "output_type": "execute_result"
    }
   ],
   "source": [
    "mensaje_cifrado_A"
   ]
  },
  {
   "cell_type": "markdown",
   "metadata": {},
   "source": [
    "El mensaje pasa al operador que lo cifra con las claves del día usando el reflector B sin entender nada de lo que dice y añade los grupos para advertir de fallos en la transmisión. Claves del día:\n",
    "\n",
    " |Datum|Walzenlage|Ringstellung|---   Steckerverbindungen   ---|\n",
    " |-----|----------|------------|-------------------------------|\n",
    " |08.  | V II III |  A  K  E   | CI OK PV ZL HX NB AW DJ FE ST |"
   ]
  },
  {
   "cell_type": "code",
   "execution_count": 26,
   "metadata": {},
   "outputs": [],
   "source": [
    "# LO CIFRA EL OPERADOR con las claves del día, suponemos que el día es el 8 de marzo de 1942\n",
    "\n",
    "# Configuración de la M3 a partir de la M4\n",
    "# Reflector\n",
    "reflector = 'B_thin'\n",
    "# Rotores\n",
    "rotores = [Rotores_griegos['Beta'], Rotores['V'], Rotores['II'], Rotores['III']]\n",
    "# Ringstellung\n",
    "ringstellung = 'AAKE'\n",
    "# Grundstellung\n",
    "grundstellung = 'AMGL'\n",
    "# Steckern\n",
    "conexiones = [('CI'), ('OK'), ('PV'), ('ZL'), ('HX'), ('NB'), ('AW'), ('DJ'), ('FE'), ('ST')]\n",
    "\n",
    "# M3\n",
    "M3 = Enigma(reflector, conexiones, rotores, grundstellung, ringstellung)\n",
    "# Cifra de nuevo el mensaje\n",
    "mensaje_cifrado_O = M3.cifrar(mensaje_cifrado_A)\n",
    "# El operador añade los dos grupos para advertir de fallos de transmisión\n",
    "mensaje_cifrado_O = 'FCLC QRKN ' + mensaje_cifrado_O + ' FCLC QRKN' "
   ]
  },
  {
   "cell_type": "markdown",
   "metadata": {},
   "source": [
    "Mensaje cifrado por el operador:"
   ]
  },
  {
   "cell_type": "code",
   "execution_count": 27,
   "metadata": {},
   "outputs": [
    {
     "data": {
      "text/plain": [
       "'FCLC QRKN SPHWPDHIKEAHZGTHC FSQL LSZW ESXX ABRB HBVG CEXN BUSR DXUZ FCLC QRKN'"
      ]
     },
     "execution_count": 27,
     "metadata": {},
     "output_type": "execute_result"
    }
   ],
   "source": [
    "mensaje_cifrado_O"
   ]
  },
  {
   "cell_type": "markdown",
   "metadata": {},
   "source": [
    "**Cabecera del mensaje** :\n",
    "\n",
    "1425 - 1TLE 32 - ZYX DPP\n",
    "\n",
    "Significado de la información en la cabecera del mensaje:\n",
    "\n",
    "* 1425 Hora en la que se envía el mensaje (14:25)\n",
    "* 1TLE: Número de partes de las que se compone el mensaje (1 parte. TLE, del alemán ‘Teile’ o “Partes”)\n",
    "* Tamaño del texto cifrado: 32\n",
    "* Posición inicial de los rotores: ZYX\n",
    "* Clave de sesión cifrada: DPP\n",
    "\n",
    "* Texto cifrado: FCLC QRKN SPHWPDHIKEAHZGTHC FSQL LSZW ESXX ABRB HBVG CEXN BUSR DXUZ FCLC QRKN"
   ]
  },
  {
   "cell_type": "markdown",
   "metadata": {},
   "source": [
    "El mensaje lo recibe el receptor en el submarino que lo descifra con las claves del día y no entiende nada salvo que el mensaje va destinado a la capitana del submarino. En el mensaje pone: **PARALACAPITANACVM** , por tanto el receptor le entrega el mensaje a la capitana."
   ]
  },
  {
   "cell_type": "code",
   "execution_count": 28,
   "metadata": {},
   "outputs": [],
   "source": [
    "# LO DESCIFRA EL RECEPTOR\n",
    "\n",
    "# Configuración de la M4 simulando una M3\n",
    "# Reflector\n",
    "reflector = 'B_thin'\n",
    "# Rotores\n",
    "rotores = [Rotores_griegos['Beta'], Rotores['V'], Rotores['II'], Rotores['III']]\n",
    "# Ringstellung\n",
    "ringstellung = 'AAKE'\n",
    "# Grundstellung\n",
    "grundstellung = 'AZYX'\n",
    "# Steckern\n",
    "conexiones = [('CI'), ('OK'), ('PV'), ('ZL'), ('HX'), ('NB'), ('AW'), ('DJ'), ('FE'), ('ST')]\n",
    "\n",
    "# M4\n",
    "M4 = Enigma(reflector, conexiones, rotores, grundstellung, ringstellung)\n",
    "# Obtenemos la clave de sesión \n",
    "clave_sesion = M4.cifrar('DPP')\n",
    "nuevo_grundstellung = 'A' + clave_sesion\n",
    "\n",
    "# Desciframos el mensaje con el nuevo grundstellung\n",
    "M4 = Enigma(reflector, conexiones, rotores, nuevo_grundstellung, ringstellung)\n",
    "mensaje_descifrado_R = M4.descifrar(mensaje_cifrado_O)"
   ]
  },
  {
   "cell_type": "markdown",
   "metadata": {},
   "source": [
    "Mensaje descifrado por el receptor:"
   ]
  },
  {
   "cell_type": "code",
   "execution_count": 29,
   "metadata": {},
   "outputs": [
    {
     "data": {
      "text/plain": [
       "'PARALACAPITANACVM UNGT PCHZ XDFY DWKY LWNY EMIQ PLNN KGSD'"
      ]
     },
     "execution_count": 29,
     "metadata": {},
     "output_type": "execute_result"
    }
   ],
   "source": [
    "mensaje_descifrado_R"
   ]
  },
  {
   "cell_type": "markdown",
   "metadata": {},
   "source": [
    "La capitana Carlota recibe el mensaje se va a su camarote y en un lugar secreto descifra el mensaje con la configuración propia que guarda en secreto."
   ]
  },
  {
   "cell_type": "code",
   "execution_count": 30,
   "metadata": {},
   "outputs": [],
   "source": [
    "# LO DESCIFRA LA CAPITANA CARLOTA\n",
    "\n",
    "# Configuración de la M4 simulando la M3\n",
    "# Reflector\n",
    "reflector = 'C_thin'\n",
    "# Rotores\n",
    "rotores = [Rotores_griegos['Gamma'], Rotores['V'], Rotores['VI'], Rotores['VIII']]\n",
    "# Ringstellung\n",
    "ringstellung = 'ALKF'\n",
    "# Grundstellung\n",
    "grundstellung = 'AOPF'\n",
    "# Steckern\n",
    "conexiones = [('AE'), ('BF'), ('CM'), ('DQ'), ('HU'), ('JN'), ('LX'), ('PR'), ('SZ'), ('VW')]\n",
    "\n",
    "# M4\n",
    "M4 = Enigma(reflector, conexiones, rotores, grundstellung, ringstellung)\n",
    "\n",
    "# Desciframos el mensaje secreto:\n",
    "# Eliminamos la parte donde especificó el oficial que el mensaje era para la capitana\n",
    "mensaje_descifrado_R = mensaje_descifrado_R[18:]\n",
    "# Empleamos cifrar puesto que hemos eliminado los primeros y últimos dos grupos, que coinciden para advertir \n",
    "# de fallos de transmisión\n",
    "mensaje_descifrado = M4.cifrar(mensaje_descifrado_R)"
   ]
  },
  {
   "cell_type": "markdown",
   "metadata": {},
   "source": [
    "Mensaje descifrado:"
   ]
  },
  {
   "cell_type": "code",
   "execution_count": 31,
   "metadata": {},
   "outputs": [
    {
     "data": {
      "text/plain": [
       "'PELI GROA VANZ ANPO RELN ORTE RETI RADA'"
      ]
     },
     "execution_count": 31,
     "metadata": {},
     "output_type": "execute_result"
    }
   ],
   "source": [
    "mensaje_descifrado"
   ]
  },
  {
   "cell_type": "markdown",
   "metadata": {},
   "source": [
    "Comprobamos que el mensaje que envió el oficial coincide con el descifrado por la capitana:"
   ]
  },
  {
   "cell_type": "code",
   "execution_count": 32,
   "metadata": {},
   "outputs": [
    {
     "name": "stdout",
     "output_type": "stream",
     "text": [
      "Comprobamos si el mensaje descifrado es correcto: True\n"
     ]
    }
   ],
   "source": [
    "print('Comprobamos si el mensaje descifrado es correcto:', mensaje_secreto == mensaje_descifrado)"
   ]
  },
  {
   "cell_type": "code",
   "execution_count": null,
   "metadata": {},
   "outputs": [],
   "source": []
  },
  {
   "cell_type": "code",
   "execution_count": null,
   "metadata": {},
   "outputs": [],
   "source": []
  }
 ],
 "metadata": {
  "kernelspec": {
   "display_name": "Python 3",
   "language": "python",
   "name": "python3"
  },
  "language_info": {
   "codemirror_mode": {
    "name": "ipython",
    "version": 3
   },
   "file_extension": ".py",
   "mimetype": "text/x-python",
   "name": "python",
   "nbconvert_exporter": "python",
   "pygments_lexer": "ipython3",
   "version": "3.7.4"
  }
 },
 "nbformat": 4,
 "nbformat_minor": 4
}
