{
 "cells": [
  {
   "cell_type": "markdown",
   "metadata": {},
   "source": [
    "# Tareas SPSI\n",
    "\n",
    "Autores: Adrián Rodríguez Montero y Carlota Valdivia Manzano"
   ]
  },
  {
   "cell_type": "markdown",
   "metadata": {},
   "source": [
    "# Ejercicio 1"
   ]
  },
  {
   "cell_type": "markdown",
   "metadata": {},
   "source": [
    "## Algoritmo Extendido de Euclides Binario"
   ]
  },
  {
   "cell_type": "markdown",
   "metadata": {},
   "source": [
    "Implemente en Python el Algoritmo Extendido de Euclides proporcionando una función, digamos bxeuc(m, n) , que dados dos núeros enteros m y n proporcione otros tres, a saber g, u y v tales que g = mu + nv . La implementación tendrá la particularidad obligatoria de apartarse de la implementación aritmética clásica y proceder en su lugar con la representación binaria de los números involucrados."
   ]
  },
  {
   "cell_type": "code",
   "execution_count": 1,
   "metadata": {},
   "outputs": [],
   "source": [
    "def es_par(num):\n",
    "    \"\"\"\n",
    "        Comprueba si un número es par\n",
    "    \"\"\"\n",
    "    if num & 1 == 1:\n",
    "        return False\n",
    "    else:\n",
    "        return True"
   ]
  },
  {
   "cell_type": "code",
   "execution_count": 2,
   "metadata": {},
   "outputs": [],
   "source": [
    "def bxeuc(m,n):\n",
    "    \"\"\"\n",
    "        Algortimo Extendido de Euclides representación Binaria\n",
    "    \"\"\"\n",
    "    \n",
    "    # Contador para saber la mayor potencia de 2 que divide a m y a n\n",
    "    cont = 0\n",
    "    \n",
    "    # Si m o n son 0 gcd(m,0) = m o gcd(0,n) = n\n",
    "    # Comprobamos si m es 0\n",
    "    if m == 0:\n",
    "        return n, 0, 1\n",
    "    \n",
    "    # Comprobamos si n es 0\n",
    "    if n == 0:\n",
    "        return m, 1, 0\n",
    "    \n",
    "    # Si m y n son pares entonces gcd(2m,2n) = 2*gcd(m,n)\n",
    "    while es_par(m) and es_par(n):\n",
    "        # Devuelve m y n con los bits desplazados hacia la izquierda, equivale a dividir por 2\n",
    "        m, n = m>>1, n>>1\n",
    "        # Aumentamos el contador en uno para posteriormente obtener el gcd\n",
    "        cont = cont + 1\n",
    "        \n",
    "    # Guardamos m y n para poder operar   \n",
    "    m0, n0 = m, n \n",
    "    \n",
    "    # Enteros que sirven para calcular los Coeficientes de Bezout, los cuales serán tm y tn \n",
    "    sm, sn, tm, tn = 1, 0, 0, 1\n",
    "    \n",
    "    # INVARIANTE:\n",
    "    # sm*m0 +sn*n0 = m\n",
    "    # tm*m0 + tn*n0 = n\n",
    "    \n",
    "    # Comprobamos si m es par si es así significa que n es impar luego:\n",
    "    # gcd(m,n) = gcd(m/2,n)\n",
    "    while es_par(m):\n",
    "        # Dividimos m por 2\n",
    "        m = m>>1\n",
    "        \n",
    "        # Comprobamos si sm y sn son pares simultáneamente\n",
    "        if es_par(sm) and es_par(sn):\n",
    "            # Dividimos sm y sn por 2\n",
    "            sm, sn = sm>>1, sn>>1 \n",
    "        else:    \n",
    "            # A sm le sumamos n0 y dividimos por 2 y a sn le restamos m0 y dividimos por 2\n",
    "            sm, sn = (sm+n0)>>1, (sn-m0)>>1 \n",
    "        \n",
    "        \n",
    "    # Si m y n no son iguales\n",
    "    while m != n:\n",
    "        # Comprobamos si n es par\n",
    "        # gcd(m,n) = gcd(m,n/2)\n",
    "        if es_par(n):\n",
    "            # Dividimos n por 2\n",
    "            n = n>>1\n",
    "            \n",
    "            # Si tm y tn son pares simultáneamente\n",
    "            if es_par(tm) and es_par(tn):\n",
    "                # Dividimos tm y tn por 2\n",
    "                tm, tn = tm>>1, tn>>1\n",
    "            \n",
    "            else:\n",
    "                # A tm le sumamos n0 y dividimos por 2 y a tn le restamos m0 y dividimos por 2   \n",
    "                tm, tn = (tm+n0)>>1, (tn-m0)>>1\n",
    "        \n",
    "        # Si m es mayor que n\n",
    "        elif m > n:\n",
    "            # Intercambiamos m y n\n",
    "            # Intercambiamos sm y tm\n",
    "            # Intercambiamos sn y tn\n",
    "            m, n, sm, sn, tm, tn = n, m, tm, tn, sm, sn\n",
    "            \n",
    "        else:    \n",
    "            # Aplicamos gcd(u,v) = gcd(|u-v|,min(u,v))\n",
    "            # n ahora es la diferencia entre n y m\n",
    "            # tm es la diferencia entre tm y sm\n",
    "            # tn es la diferencia entre tn y sn\n",
    "            n, tm, tn = n-m, tm-sm, tn-sn    \n",
    "    \n",
    "    # Multilpicamos m por 2**cont y devolvemos gcd(m,n) y los Coeficientes de Bezout\n",
    "    return  m << cont, tm , tn"
   ]
  },
  {
   "cell_type": "markdown",
   "metadata": {},
   "source": [
    "### Ejemplo de Uso:\n",
    "\n",
    "Obtenemos el **gcd(m,n)** donde **m** y **n** son 2 números enteros y **u** y **v** son los coeficientes de Bézout que se obtienen con el Algortimo Extendido de Euclides Binario. Estos coeficientes no se determinan de forma única puesto que verifican la siguiente ecuación diofántica: **gcd(m,n)=d = m*x + n*y**, la cual tiene solución ya que, **gcd(m,n)** es un divisor de **d = gcd(m,n)** por ser el mismo número entero. Tanto x como y dependen de un número entero **k** y son: **x = a + bk**, **y = c + dk** donde a,b,c,d son enteros.\n",
    "\n",
    "Introducimos los enteros m y n y calculamos el gcd y 2 coeficientes de Bézout:"
   ]
  },
  {
   "cell_type": "code",
   "execution_count": 3,
   "metadata": {},
   "outputs": [
    {
     "data": {
      "text/plain": [
       "(5, 7, -25)"
      ]
     },
     "execution_count": 3,
     "metadata": {},
     "output_type": "execute_result"
    }
   ],
   "source": [
    "m = 90\n",
    "n = 25\n",
    "gcd, u, v = bxeuc(m,n)\n",
    "gcd, u, v"
   ]
  },
  {
   "cell_type": "markdown",
   "metadata": {},
   "source": [
    "Comprobamos que se verifica la ecuación diofántica"
   ]
  },
  {
   "cell_type": "code",
   "execution_count": 4,
   "metadata": {},
   "outputs": [
    {
     "name": "stdout",
     "output_type": "stream",
     "text": [
      "True\n"
     ]
    }
   ],
   "source": [
    "print(gcd == m*u + n*v)"
   ]
  },
  {
   "cell_type": "markdown",
   "metadata": {},
   "source": [
    "Ahora vamos a obtener todos los coeficientes de Bézout que serán aquellos que verifiquen la Ecuación Diofántica: **gcd(m,n) = m*x + n*y** generada a partir de los datos de partida, es decir, la solución general de esta. \n",
    "\n",
    "Sea **a = (m/gcd(m,n))** y **b = (n/gcd(m,n))** , entonces los coeficientes de Bézout son de la forma: \n",
    "\n",
    "* x = u + bk\n",
    "                                    , donde u y v son 2 soluciones particulares de la ecuación obtenidos con el \n",
    "                                    Algoritmo Extendido de Euclides Binario y k es un entero\n",
    "* y = v - ak"
   ]
  },
  {
   "cell_type": "code",
   "execution_count": 5,
   "metadata": {},
   "outputs": [],
   "source": [
    "def coef_bezout(m,n,gcd,u,v):\n",
    "    \"\"\"\n",
    "       Obtiene los coeficientes de Bézout a partir de los 2 coeficientes obtenidos con el Algoritmo Extendido de \n",
    "       Euclides en Representación Binaria, método bxeuc(m,n)\n",
    "       \n",
    "       'm' y 'n' son los 2 enteros cuyo gcd es 'gcd' obtenido por el Algoritmo extendido de Euclides Binario\n",
    "       'u' y 'v' son los 2 coeficientes obtenidos con el Algoritmo extendido de Euclides Binario, soluciones particulares\n",
    "    \"\"\"\n",
    "    \n",
    "    a = m/gcd\n",
    "    b = n/gcd\n",
    "       \n",
    "    return 'Las soluciones de la ecuación {}x + {}y = {} son: (x = {} + {}k , y = {} - {}k), con k entero'.format(m,n,gcd,u,b,v,a)"
   ]
  },
  {
   "cell_type": "markdown",
   "metadata": {},
   "source": [
    "Coeficientes de Bézout:"
   ]
  },
  {
   "cell_type": "code",
   "execution_count": 6,
   "metadata": {},
   "outputs": [
    {
     "data": {
      "text/plain": [
       "'Las soluciones de la ecuación 90x + 25y = 5 son: (x = 7 + 5k , y = -25 - 18k), con k entero'"
      ]
     },
     "execution_count": 6,
     "metadata": {},
     "output_type": "execute_result"
    }
   ],
   "source": [
    "coef_bezout(m,n,gcd,u,v)"
   ]
  },
  {
   "cell_type": "code",
   "execution_count": null,
   "metadata": {},
   "outputs": [],
   "source": []
  },
  {
   "cell_type": "markdown",
   "metadata": {},
   "source": [
    "### Otro ejemplo de uso:"
   ]
  },
  {
   "cell_type": "code",
   "execution_count": 7,
   "metadata": {},
   "outputs": [
    {
     "data": {
      "text/plain": [
       "(1, 23, -34)"
      ]
     },
     "execution_count": 7,
     "metadata": {},
     "output_type": "execute_result"
    }
   ],
   "source": [
    "m = 37\n",
    "n = 25\n",
    "gcd, u, v = bxeuc(m,n)\n",
    "gcd, u, v"
   ]
  },
  {
   "cell_type": "markdown",
   "metadata": {},
   "source": [
    "Coeficientes de Bézout:"
   ]
  },
  {
   "cell_type": "code",
   "execution_count": 8,
   "metadata": {},
   "outputs": [
    {
     "data": {
      "text/plain": [
       "'Las soluciones de la ecuación 37x + 25y = 1 son: (x = 23 + 25k , y = -34 - 37k), con k entero'"
      ]
     },
     "execution_count": 8,
     "metadata": {},
     "output_type": "execute_result"
    }
   ],
   "source": [
    "coef_bezout(m,n,gcd,u,v)"
   ]
  },
  {
   "cell_type": "code",
   "execution_count": null,
   "metadata": {},
   "outputs": [],
   "source": []
  }
 ],
 "metadata": {
  "kernelspec": {
   "display_name": "SageMath 9.4",
   "language": "sage",
   "name": "sagemath"
  },
  "language_info": {
   "codemirror_mode": {
    "name": "ipython",
    "version": 3
   },
   "file_extension": ".py",
   "mimetype": "text/x-python",
   "name": "python",
   "nbconvert_exporter": "python",
   "pygments_lexer": "ipython3",
   "version": "3.9.5"
  }
 },
 "nbformat": 4,
 "nbformat_minor": 4
}
